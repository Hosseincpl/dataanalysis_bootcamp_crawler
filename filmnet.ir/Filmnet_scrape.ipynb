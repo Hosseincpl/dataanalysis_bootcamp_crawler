{
 "cells": [
  {
   "cell_type": "code",
   "execution_count": 10,
   "id": "75e47517",
   "metadata": {},
   "outputs": [],
   "source": [
    "import requests\n",
    "from requests.adapters import HTTPAdapter\n",
    "from urllib3.util.retry import Retry\n",
    "import json\n",
    "import pandas as pd\n",
    "from collections import OrderedDict"
   ]
  },
  {
   "cell_type": "code",
   "execution_count": 11,
   "id": "4dcda00a",
   "metadata": {},
   "outputs": [],
   "source": [
    "title = []\n",
    "rate = []\n",
    "year = []\n",
    "age_restriction = []\n",
    "typee = []\n",
    "origin = []\n",
    "duration = []\n",
    "imdb_rank = []\n",
    "keshvar_sazandeh=[]"
   ]
  },
  {
   "cell_type": "code",
   "execution_count": 12,
   "id": "f5818b4b",
   "metadata": {},
   "outputs": [],
   "source": [
    "for i in range(20):\n",
    "    url = \"https://filmnet.ir/api-v2/video-contents?offset=\" + str(24*i) + \"&count=24&order=latest&query=&types=single_video&types=series&types=video_content_list\"\n",
    "    session = requests.Session()\n",
    "    retry = Retry(connect=3, backoff_factor=0.5)\n",
    "    adapter = HTTPAdapter(max_retries=retry)\n",
    "    session.mount('http://', adapter)\n",
    "    session.mount('https://', adapter)\n",
    "    page = session.get(url)\n",
    "    j = json.loads(page.text)\n",
    "    for k in range(24):\n",
    "        #print(k)\n",
    "        title.append(j['data'][k]['title'])\n",
    "        rate.append(round(j['data'][k]['rate'],2))\n",
    "        try:\n",
    "            year.append(j['data'][k]['year'])\n",
    "        except:\n",
    "            year.append('---------')\n",
    "        age_restriction.append(j['data'][k]['age_restriction'])\n",
    "        typee.append(j['data'][k]['type'])\n",
    "        origin.append(j['data'][k]['original_name'])\n",
    "        try:\n",
    "            duration.append(j['data'][k]['duration'])\n",
    "        except KeyError:\n",
    "            duration.append('---------')\n",
    "        try:\n",
    "            imdb_rank.append(j['data'][k]['imdb_rank_percent'])\n",
    "        except KeyError:\n",
    "            imdb_rank.append('Not Mentioned')\n",
    "            \n",
    "        categories=j['data'][k]['categories']\n",
    "        territory_index = next((index for (index, d) in enumerate(categories) if d[\"type\"] == \"territory\"), None)\n",
    "        if territory_index == None:\n",
    "            keshvar_sazandeh.append('Unknown')\n",
    "        else:\n",
    "            countries= \" - \".join([ii['title'] for ii in categories[territory_index]['items']]).strip()\n",
    "            keshvar_sazandeh.append(countries)"
   ]
  },
  {
   "cell_type": "code",
   "execution_count": 78,
   "id": "a839a6b3",
   "metadata": {},
   "outputs": [
    {
     "data": {
      "text/plain": [
       "[{'type': 'default', 'items': [{'title': 'پشت صحنه'}]}]"
      ]
     },
     "execution_count": 78,
     "metadata": {},
     "output_type": "execute_result"
    }
   ],
   "source": [
    "categories=j['data'][11]['categories']\n",
    "#territory_index = next((index for (index, d) in enumerate(categories) if d[\"type\"] == \"territory\"), None)\n",
    "#countries= \" - \".join([ii['title'] for ii in categories[territory_index]['items']]).strip()\n",
    "#keshvar_sazandeh.append(countries)\n",
    "#territory_index\n",
    "categories"
   ]
  },
  {
   "cell_type": "code",
   "execution_count": 79,
   "id": "424e34df",
   "metadata": {},
   "outputs": [
    {
     "name": "stdout",
     "output_type": "stream",
     "text": [
      "[{'type': 'genre', 'items': [{'title': 'درام'}, {'title': 'جنایی'}, {'title': 'بیوگرافی'}]}, {'type': 'territory', 'items': [{'title': 'آمریکا'}]}, {'type': 'default', 'items': [{'title': 'خارجی'}]}]\n"
     ]
    }
   ],
   "source": [
    "url = \"https://filmnet.ir/api-v2/video-contents?offset=24&count=24&order=latest&query=&types=single_video&types=series&types=video_content_list\"\n",
    "page = requests.get(url)\n",
    "j = json.loads(page.text)\n",
    "categories=j['data'][11]['categories']\n",
    "print(categories)\n",
    "#territory_index = next((index for (index, d) in enumerate(categories) if d[\"type\"] == \"territory\"), None)\n",
    "#print(territory_index)\n",
    "#[ii['title'] for ii in categories[territory_index]['items']]\n",
    "#\",\".join([ii['title'] for ii in categories[territory_index]['items']]).strip()\n"
   ]
  },
  {
   "cell_type": "code",
   "execution_count": 55,
   "id": "ce62c0be",
   "metadata": {},
   "outputs": [
    {
     "data": {
      "text/plain": [
       "12"
      ]
     },
     "execution_count": 55,
     "metadata": {},
     "output_type": "execute_result"
    }
   ],
   "source": [
    "len(duration)"
   ]
  },
  {
   "cell_type": "code",
   "execution_count": 13,
   "id": "caddd693",
   "metadata": {},
   "outputs": [],
   "source": [
    "movies_info= OrderedDict()\n",
    "movies_info['نام اثر'] = title\n",
    "movies_info['رأی'] = rate\n",
    "movies_info[\"رأی در IMDB\"] = imdb_rank\n",
    "movies_info['سال ساخت'] = year\n",
    "movies_info['محدودیت سنی'] = age_restriction\n",
    "movies_info['نوع'] = typee\n",
    "movies_info['نام انگلیسی'] = origin\n",
    "movies_info['زمان'] = duration\n",
    "movies_info['کشور سازنده'] = keshvar_sazandeh\n",
    "movies_info_df= pd.DataFrame(movies_info)"
   ]
  },
  {
   "cell_type": "code",
   "execution_count": 15,
   "id": "e88056ef",
   "metadata": {},
   "outputs": [],
   "source": [
    "movies_info_df\n",
    "movies_info_df.index += 1"
   ]
  },
  {
   "cell_type": "code",
   "execution_count": 16,
   "id": "b334a016",
   "metadata": {},
   "outputs": [
    {
     "data": {
      "text/html": [
       "<div>\n",
       "<style scoped>\n",
       "    .dataframe tbody tr th:only-of-type {\n",
       "        vertical-align: middle;\n",
       "    }\n",
       "\n",
       "    .dataframe tbody tr th {\n",
       "        vertical-align: top;\n",
       "    }\n",
       "\n",
       "    .dataframe thead th {\n",
       "        text-align: right;\n",
       "    }\n",
       "</style>\n",
       "<table border=\"1\" class=\"dataframe\">\n",
       "  <thead>\n",
       "    <tr style=\"text-align: right;\">\n",
       "      <th></th>\n",
       "      <th>نام اثر</th>\n",
       "      <th>رأی</th>\n",
       "      <th>رأی در IMDB</th>\n",
       "      <th>سال ساخت</th>\n",
       "      <th>محدودیت سنی</th>\n",
       "      <th>نوع</th>\n",
       "      <th>نام انگلیسی</th>\n",
       "      <th>زمان</th>\n",
       "      <th>کشور سازنده</th>\n",
       "    </tr>\n",
       "  </thead>\n",
       "  <tbody>\n",
       "    <tr>\n",
       "      <th>1</th>\n",
       "      <td>شبی که ماه کامل شد</td>\n",
       "      <td>45.00</td>\n",
       "      <td>68</td>\n",
       "      <td>1397</td>\n",
       "      <td>not_set</td>\n",
       "      <td>single_video</td>\n",
       "      <td>When the Moon Was Full</td>\n",
       "      <td>02:10:57</td>\n",
       "      <td>‌ ایران</td>\n",
       "    </tr>\n",
       "    <tr>\n",
       "      <th>2</th>\n",
       "      <td>وینچسترها</td>\n",
       "      <td>25.00</td>\n",
       "      <td>63</td>\n",
       "      <td>2022</td>\n",
       "      <td>fifteen</td>\n",
       "      <td>series</td>\n",
       "      <td>The Winchesters</td>\n",
       "      <td>---------</td>\n",
       "      <td>آمریکا</td>\n",
       "    </tr>\n",
       "    <tr>\n",
       "      <th>3</th>\n",
       "      <td>چشم انداز زیبا</td>\n",
       "      <td>25.00</td>\n",
       "      <td>66</td>\n",
       "      <td>2022</td>\n",
       "      <td>not_set</td>\n",
       "      <td>single_video</td>\n",
       "      <td>Nice View</td>\n",
       "      <td>01:45:21</td>\n",
       "      <td>چین</td>\n",
       "    </tr>\n",
       "    <tr>\n",
       "      <th>4</th>\n",
       "      <td>شرور</td>\n",
       "      <td>25.00</td>\n",
       "      <td>73</td>\n",
       "      <td>2022</td>\n",
       "      <td>eighteen</td>\n",
       "      <td>series</td>\n",
       "      <td>The Bad Guy</td>\n",
       "      <td>---------</td>\n",
       "      <td>ایتالیا</td>\n",
       "    </tr>\n",
       "    <tr>\n",
       "      <th>5</th>\n",
       "      <td>نارویک: اولین شکست هیتلر</td>\n",
       "      <td>25.00</td>\n",
       "      <td>66</td>\n",
       "      <td>2022</td>\n",
       "      <td>fifteen</td>\n",
       "      <td>single_video</td>\n",
       "      <td>Narvik: Hitler's First Defeat</td>\n",
       "      <td>01:43:10</td>\n",
       "      <td>نروژ</td>\n",
       "    </tr>\n",
       "    <tr>\n",
       "      <th>...</th>\n",
       "      <td>...</td>\n",
       "      <td>...</td>\n",
       "      <td>...</td>\n",
       "      <td>...</td>\n",
       "      <td>...</td>\n",
       "      <td>...</td>\n",
       "      <td>...</td>\n",
       "      <td>...</td>\n",
       "      <td>...</td>\n",
       "    </tr>\n",
       "    <tr>\n",
       "      <th>476</th>\n",
       "      <td>روزی روزگاری سینما</td>\n",
       "      <td>39.69</td>\n",
       "      <td>0</td>\n",
       "      <td>1392</td>\n",
       "      <td>not_set</td>\n",
       "      <td>single_video</td>\n",
       "      <td></td>\n",
       "      <td>01:12:37</td>\n",
       "      <td>‌ ایران</td>\n",
       "    </tr>\n",
       "    <tr>\n",
       "      <th>477</th>\n",
       "      <td>اساتید لگو</td>\n",
       "      <td>48.00</td>\n",
       "      <td>74</td>\n",
       "      <td>2020</td>\n",
       "      <td>thirteen</td>\n",
       "      <td>series</td>\n",
       "      <td>Lego Masters</td>\n",
       "      <td>---------</td>\n",
       "      <td>آمریکا</td>\n",
       "    </tr>\n",
       "    <tr>\n",
       "      <th>478</th>\n",
       "      <td>داستان های جدای</td>\n",
       "      <td>50.00</td>\n",
       "      <td>86</td>\n",
       "      <td>2022</td>\n",
       "      <td>thirteen</td>\n",
       "      <td>series</td>\n",
       "      <td>Star Wars: Tales of the Jedi</td>\n",
       "      <td>---------</td>\n",
       "      <td>آمریکا</td>\n",
       "    </tr>\n",
       "    <tr>\n",
       "      <th>479</th>\n",
       "      <td>دره مومین</td>\n",
       "      <td>47.00</td>\n",
       "      <td>72</td>\n",
       "      <td>2019</td>\n",
       "      <td>seven</td>\n",
       "      <td>series</td>\n",
       "      <td>Moominvalley</td>\n",
       "      <td>---------</td>\n",
       "      <td>انگلستان  -  فنلاند</td>\n",
       "    </tr>\n",
       "    <tr>\n",
       "      <th>480</th>\n",
       "      <td>اتاق نامه</td>\n",
       "      <td>39.00</td>\n",
       "      <td>68</td>\n",
       "      <td>2020</td>\n",
       "      <td>fifteen</td>\n",
       "      <td>single_video</td>\n",
       "      <td>The Letter Room</td>\n",
       "      <td>00:31:26</td>\n",
       "      <td>آمریکا</td>\n",
       "    </tr>\n",
       "  </tbody>\n",
       "</table>\n",
       "<p>480 rows × 9 columns</p>\n",
       "</div>"
      ],
      "text/plain": [
       "                      نام اثر    رأی رأی در IMDB سال ساخت محدودیت سنی  \\\n",
       "1          شبی که ماه کامل شد  45.00          68     1397     not_set   \n",
       "2                   وینچسترها  25.00          63     2022     fifteen   \n",
       "3              چشم انداز زیبا  25.00          66     2022     not_set   \n",
       "4                        شرور  25.00          73     2022    eighteen   \n",
       "5    نارویک: اولین شکست هیتلر  25.00          66     2022     fifteen   \n",
       "..                        ...    ...         ...      ...         ...   \n",
       "476        روزی روزگاری سینما  39.69           0     1392     not_set   \n",
       "477                اساتید لگو  48.00          74     2020    thirteen   \n",
       "478           داستان های جدای  50.00          86     2022    thirteen   \n",
       "479                 دره مومین  47.00          72     2019       seven   \n",
       "480                 اتاق نامه  39.00          68     2020     fifteen   \n",
       "\n",
       "              نوع                    نام انگلیسی       زمان  \\\n",
       "1    single_video         When the Moon Was Full   02:10:57   \n",
       "2          series                The Winchesters  ---------   \n",
       "3    single_video                      Nice View   01:45:21   \n",
       "4          series                    The Bad Guy  ---------   \n",
       "5    single_video  Narvik: Hitler's First Defeat   01:43:10   \n",
       "..            ...                            ...        ...   \n",
       "476  single_video                                  01:12:37   \n",
       "477        series                   Lego Masters  ---------   \n",
       "478        series   Star Wars: Tales of the Jedi  ---------   \n",
       "479        series                   Moominvalley  ---------   \n",
       "480  single_video                The Letter Room   00:31:26   \n",
       "\n",
       "             کشور سازنده  \n",
       "1                ‌ ایران  \n",
       "2                 آمریکا  \n",
       "3                    چین  \n",
       "4                ایتالیا  \n",
       "5                   نروژ  \n",
       "..                   ...  \n",
       "476              ‌ ایران  \n",
       "477               آمریکا  \n",
       "478               آمریکا  \n",
       "479  انگلستان  -  فنلاند  \n",
       "480               آمریکا  \n",
       "\n",
       "[480 rows x 9 columns]"
      ]
     },
     "execution_count": 16,
     "metadata": {},
     "output_type": "execute_result"
    }
   ],
   "source": [
    "movies_info_df"
   ]
  },
  {
   "cell_type": "code",
   "execution_count": 17,
   "id": "5c913288",
   "metadata": {},
   "outputs": [],
   "source": [
    "movies_info_df.to_csv(\"filmnet_data_csv\")"
   ]
  },
  {
   "cell_type": "code",
   "execution_count": 18,
   "id": "6a31890a",
   "metadata": {},
   "outputs": [
    {
     "data": {
      "text/plain": [
       "',نام اثر,رأی,رأی در IMDB,سال ساخت,محدودیت سنی,نوع,نام انگلیسی,زمان,کشور سازنده\\r\\n1,شبی که ماه کامل شد,45.0,68,1397,not_set,single_video,When the Moon Was Full,02:10:57,\\u200c ایران\\r\\n2,وینچسترها,25.0,63,2022,fifteen,series,The Winchesters,---------,آمریکا\\r\\n3,چشم انداز زیبا,25.0,66,2022,not_set,single_video,Nice View,01:45:21,چین\\r\\n4,شرور,25.0,73,2022,eighteen,series,The Bad Guy,---------,ایتالیا\\r\\n5,نارویک: اولین شکست هیتلر,25.0,66,2022,fifteen,single_video,Narvik: Hitler\\'s First Defeat,01:43:10,نروژ\\r\\n6,چراغ های قرمز,25.0,62,2012,adult,single_video,Red Lights,01:52:30,کانادا  -  اسپانیا\\r\\n7,مارکس می\\u200cتواند صبر کند,25.0,76,---------,eighteen,single_video,Marx Can Wait,01:27:15,ایتالیا\\r\\n8,ارتفاع,50.0,72,2022,thirteen,single_video,Uunchai,02:32:30,هند\\r\\n9,پلنگ سیاه: واکاندا تا ابد,44.0,72,2022,thirteen,single_video,Black Panther: Wakanda Forever,02:33:18,آمریکا\\r\\n10,ژان کلود ون جانسون,50.0,75,2016,fifteen,series,Jean-Claude Van Johnson,---------,آمریکا\\r\\n11,بلک\\u200cوی,50.0,53,2015,eighteen,single_video,Blackway,01:25:44,آمریکا\\r\\n12,جزیره,25.0,71,2022,eighteen,series,Island,---------,کره جنوبی\\r\\n13,اوپنهایمر,50.0,0,2023,not_set,single_video,Oppenheimer,00:02:03,آمریکا -  انگلستان\\r\\n14,شکست,50.0,72,2007,fifteen,single_video,Fracture,01:47:23,آلمان  - آمریکا\\r\\n15,بزوس: آغاز,23.0,45,2023,adult,single_video,Bezos: The Beginning,01:37:14,آمریکا\\r\\n16,سقوط کایوت,44.0,68,2010,toddlers,single_video,Coyote Falls,00:03:00,آمریکا\\r\\n17,پدرم و پسرم,50.0,82,2005,not_set,single_video,My Father and My Son,01:50:19,ترکیه\\r\\n18,توت فرنگی های وحشی,50.0,81,1957,eighteen,single_video,Wild Strawberries,01:27:27,سوئد\\r\\n19,برنامه 75,25.0,68,2022,fifteen,single_video,Plan 75,01:52:03,ژاپن\\r\\n20,پوکر فیس,36.0,83,2023,thirteen,series,Poker Face,---------,آمریکا\\r\\n21,آخرین بیمار,50.0,62,2022,eighteen,single_video,The Last Client,01:29:30,دانمارک\\r\\n22,گله گرک,30.0,59,2023,eighteen,series,Wolf Pack,---------,آمریکا\\r\\n23,مگان,47.0,65,2022,thirteen,single_video,M3GAN,01:41:16,آمریکا\\r\\n24,لاکوود و شرکا,43.0,76,---------,thirteen,series,Lockwood & Co,---------,انگلستان\\r\\n25,حمله بیسکویتی,47.0,71,2012,toddlers,single_video,Snack Attack,00:04:41,آمریکا -  کانادا\\r\\n26,روانشناس عجیب,50.0,77,2023,eighteen,series,Shrinking,---------,آمریکا\\r\\n27,زندگی عالی است,46.0,67,2022,toddlers,single_video,Life is Great,00:05:35,آمریکا\\r\\n28,کارآگاه سان و نفرین بیوه سیاه,41.0,58,2022,twelve,single_video,Inspector Sun y la maldición de la viuda negra,01:26:08,اسپانیا\\r\\n29,هنوز آلیس,30.0,75,2014,thirteen,single_video,Still Alice,01:36:41,آمریکا\\r\\n30,دسی بل,50.0,63,2022,eighteen,single_video,Decibel,01:49:20,کره جنوبی\\r\\n31,میانه: راهنمایان کاسکادیا,30.0,51,2022,thirteen,single_video,The Middle Cascadia Guides,01:17:37,کانادا\\r\\n32,لینکلن,10.0,73,2012,thirteen,single_video,Lincoln,02:26:23,هند  - آمریکا\\r\\n33,یک پنجشنبه,47.0,77,2022,eighteen,single_video,A Thursday,02:08:21,هند\\r\\n34,کمپ آرام,50.0,76,2022,seven,single_video,Eiga Yurukyan,01:00:07,ژاپن\\r\\n35,مریض,46.0,61,2022,eighteen,single_video,Sick,01:15:09,آمریکا\\r\\n36,دردسر شبانه,44.0,75,2022,toddlers,single_video,Grump in the Night,00:05:24,آمریکا\\r\\n37,کامیناندس: گران لاما,36.0,68,2014,toddlers,single_video,Caminandes: Gran Dillama,00:02:26,هلند\\r\\n38,بهایی که می پردازیم,45.0,48,2022,adult,single_video,The Price We Pay,01:19:19,آمریکا\\r\\n39,مرد فیل نما,43.0,82,1980,fifteen,single_video,The Elephant Man,02:01:42,آمریکا -  انگلستان\\r\\n40,آخرین بازمانده موهیکان ها,41.0,77,1992,eighteen,single_video,The Last of the Mohicans,01:48:56,آمریکا\\r\\n41,ترمینال,50.0,74,2004,thirteen,single_video,The Terminal,02:02:31,آمریکا\\r\\n42,شاه شاکر: بازیافت,20.0,56,2022,seven,single_video,King Shakir: Recycle,01:31:11,ترکیه\\r\\n43,به نام پدر,36.0,81,1993,eighteen,single_video,In the Name of the Father,02:11:03,انگلستان  -  ایرلند\\r\\n44,اوتاما,39.0,74,2022,eighteen,single_video,Utama,01:27:31,بولیوی -  فرانسه\\r\\n45,در یک شب اتفاق افتاد,10.0,81,1934,eighteen,single_video,It Happened One Night,01:39:26,آمریکا\\r\\n46,اوتولنجی\\xa0و کیک های ورسای,41.0,60,2020,twelve,single_video,Ottolenghi and the Cakes of Versailles,01:10:55,آمریکا\\r\\n47,کارآگاه حقیقی,42.0,89,2014,eighteen,series,True Detective,---------,آمریکا\\r\\n48,پول و قدرت,50.0,83,2023,eighteen,series,Payback Money And Power,---------,کره جنوبی\\r\\n49,پشت صحنه یه حبه قند,30.0,0,1389,twelve,single_video,Behind The Scenes A Cube of Sugar,00:20:05,Unknown\\r\\n50,پشت صحنه مطرب,50.0,0,1398,twelve,single_video,Behind The Scenes The Singer,00:18:53,Unknown\\r\\n51,تابو,36.0,83,2017,eighteen,series,Taboo,---------,انگلستان\\r\\n52,سوپرلیگ جنگ برای فوتبال,35.0,73,2023,eighteen,series,Super League The War for Football,---------,آمریکا\\r\\n53,سازندگان باگز بانی,41.0,84,2022,seven,series,Bugs Bunny Builders,---------,آمریکا\\r\\n54,انتقال خون,34.0,54,2023,not_set,single_video,Transfusion,01:43:45,استرالیا\\r\\n55,تماس ,50.0,67,2013,adult,single_video,The Call,01:27:05,آمریکا\\r\\n56,مشت\\u200c زن,25.0,70,1997,eighteen,single_video,The Boxer,01:48:21,آمریکا -  ایرلند\\r\\n57,سر وقت,46.0,67,2011,thirteen,single_video,In Time,01:33:51,آمریکا\\r\\n58,فری,42.0,70,2021,fifteen,single_video,Ferry,01:36:40,هلند  -  بلژیک\\r\\n59,انارهای نارس,26.0,0,1392,adult,single_video,Unripe Pomegranates,01:30:00,\\u200c ایران\\r\\n60,مشاهدات در 65 درجه جنوبی ,50.0,63,2021,twelve,single_video,Observations at 65° South,00:51:39,آلمان\\r\\n61,بازی مرگ,43.23,51,2022,eighteen,single_video,Play Dead,01:38:23,آمریکا\\r\\n62,پادشاهی ۲ دوردست,42.0,68,2023,fifteen,single_video,Kingdom 2: Far and Away,02:12:03,ژاپن\\r\\n63,سالی که جهان تغییر کرد,50.0,82,2021,thirteen,single_video,The Year Earth Changed,00:47:40,انگلستان\\r\\n64,سر و صدا,50.0,66,2022,eighteen,single_video,Noise,01:35:27,آرژانتین  -  مکزیک\\r\\n65,برادری,25.0,67,2021,thirteen,single_video,Brotherhood,01:29:50,ایتالیا  -  فرانسه  -  چک\\r\\n66,چه مگسی؟,46.0,61,2014,toddlers,single_video,What the Fly!?,00:04:48,فرانسه\\r\\n67,یخ زدایی,46.0,68,2022,fifteen,series,The Thaw,---------,انگلستان  -  لهستان\\r\\n68,مادر قلب اتمی,26.0,49,1393,thirteen,single_video,Atomic Heart Mother,01:28:14,\\u200c ایران\\r\\n69,سگ گمشده,36.0,60,2022,thirteen,single_video,Dog Gone,01:31:27,آمریکا\\r\\n70,برو هاپو برو,41.0,72,2021,toddlers,series,\"Go, Dog. Go!\",---------,کانادا  -  انگلستان  - آمریکا\\r\\n71,مطرب,41.0,44,1398,twelve,single_video,The Singer,01:44:45,\\u200c ایران\\r\\n72,جمجمه داغ,25.0,72,2021,eighteen,series,Hot Skull,---------,ترکیه\\r\\n73,افشاگر,50.0,81,2015,fifteen,single_video,Spotlight,02:06:31,آمریکا\\r\\n74,جن گیر,50.0,81,1973,adult,single_video,The Exorcist,01:57:58,آمریکا\\r\\n75,اعتراض,38.0,61,1378,fifteen,single_video,Protest,01:36:18,\\u200c ایران\\r\\n76,گول ظاهر را نخور 2,47.0,84,2022,not_set,single_video,Drishyam 2,02:08:30,هند\\r\\n77,تماس,44.0,71,2020,fifteen,single_video,The Call,01:49:43,کره جنوبی\\r\\n78,سقوط,45.0,82,2004,fifteen,single_video,Downfall,02:30:07,ایتالیا  -  آلمان  -  اتریش\\r\\n79,قصر شیرین,44.0,65,1397,fifteen,single_video,Castle of Dreams,01:21:35,\\u200c ایران\\r\\n80,کنار من بمان,25.0,81,1986,fifteen,single_video,Stand by Me,01:27:12,آمریکا\\r\\n81,یه حبه قند,44.0,71,1389,fifteen,single_video,A Cube of Sugar,01:48:53,\\u200c ایران\\r\\n82,جوخه,50.0,81,1986,fifteen,single_video,Platoon,01:57:47,آمریکا -  انگلستان\\r\\n83,پول خارجی,34.0,58,1368,thirteen,single_video,Foreign Currency,01:23:28,\\u200c ایران\\r\\n84,زنی از دنیای مردگان,46.0,68,2022,eighteen,series,Woman Of The Dead,---------,اتریش\\r\\n85, تنها در شب,43.0,72,2020,fifteen,single_video,Raat Akeli Hai,02:24:05,هند\\r\\n86,اگر این دیوارها می توانستند بخوانند,0.0,72,2022,thirteen,single_video,  If These Walls Could Sing,01:26:21,انگلستان  - آمریکا\\r\\n87,هزارتوی پن,10.0,82,2006,eighteen,single_video,Pans Labyrinth,01:48:51,اسپانیا  -  مکزیک\\r\\n88,آخرین بازمانده از ما,46.96,96,2023,fifteen,series,The Last of Us,---------,آمریکا -  کانادا\\r\\n89,لاک پشت قرمز,50.0,75,2016,twelve,single_video,The Red Turtle,01:18:44,فرانسه  -  بلژیک  -  ژاپن\\r\\n90,سام و نرگس,43.54,42,1379,eighteen,single_video,Sam and Nargess,01:30:49,\\u200c ایران\\r\\n91,محموله خاموش,46.0,63,2022,eighteen,series,Silent Cargo,---------,اسپانیا  - پرتغال\\r\\n92,به نام پدر,35.0,59,1384,adult,single_video,In the Name of the Father,01:35:11,\\u200c ایران\\r\\n93,شهردار کینگزتاون,42.0,78,2021,adult,series,Mayor of Kingstown,---------,آمریکا\\r\\n94,جهنم,38.0,57,2022,eighteen,single_video,Hellhole,01:29:27,لهستان\\r\\n95,ویل ترنت,50.0,78,2023,fifteen,series,Will Trent,---------,آمریکا\\r\\n96,آقای هفت رنگ,42.0,0,1387,not_set,single_video,Aghaye Haft Rang,01:32:29,\\u200c ایران\\r\\n97,من,40.0,0,1394,adult,single_video,Me,01:23:23,\\u200c ایران\\r\\n98,مکس,48.0,0,1383,twelve,single_video,Maxx,01:46:02,\\u200c ایران\\r\\n99,راه قدیمی,46.0,54,2023,fifteen,single_video,The Old Way,01:34:21,آمریکا\\r\\n100,سرزمین دورافتاده,46.0,62,2021,eighteen,single_video,Hinterland,01:33:19,استرالیا  - لوکزامبورگ\\r\\n101,گربه چکمه پوش: آخرین آرزو,45.02,78,2022,seven,single_video,Puss in Boots: The Last Wish,01:42:20,آمریکا\\r\\n102,پل راما,36.86,52,2022,not_set,single_video,Ram Setu,02:13:37,هند\\r\\n103,مادر,46.0,85,1368,fifteen,single_video,Mother,01:48:03,\\u200c ایران\\r\\n104,کارآموز,40.0,75,2022,eighteen,series,The Recruit,---------,آمریکا\\r\\n105,قلب تاریک جنگل,26.0,61,2021,not_set,single_video,Dark Heart of the Forest,01:25:16,فرانسه  -  بلژیک\\r\\n106,زندگی امروزه,23.0,68,2022,thirteen,series,Hayat Bugun,---------,ترکیه\\r\\n107,ازدواج ممنوع,42.0,83,2022,fifteen,series,The Forbidden Marriage,---------,کره جنوبی\\r\\n108,تعلق خاطر,44.0,68,2022,thirteen,single_video,Devotion,02:08:50,آمریکا\\r\\n109,تاریخ مجهول آمریکا,50.0,85,1998,eighteen,single_video,American History X,01:50:14,آمریکا\\r\\n110,ربات های قصه گو: زمان پاسخگویی,31.0,78,2022,toddlers,series,StoryBots: Answer Time,---------,آمریکا\\r\\n111,برف سیاه,48.0,74,2022,eighteen,series,Black Snow,---------,استرالیا\\r\\n112,ظاهر گرایی,46.0,76,2022,eighteen,series,Lookism,---------,کره جنوبی\\r\\n113,هیولاها,37.0,76,2022,not_set,single_video,The Beasts,02:10:53,فرانسه  -  اسپانیا\\r\\n114,جانگوی رها از بند,42.0,84,2012,adult,single_video,Django Unchained,02:39:24,آمریکا\\r\\n115,عملیات گرگ دریایی,42.0,32,2022,not_set,single_video,Operation Seawolf,01:25:47,آمریکا\\r\\n116,زیبا,36.0,72,2022,fifteen,single_video,Cici,02:23:43,ترکیه\\r\\n117,سرگرد,44.52,82,2022,fifteen,single_video,Major,02:09:13,هند\\r\\n118,کاپیتان مورتین و ملکه عنکبوتی,44.0,57,2018,not_set,single_video,Captain Morten and the Spider Queen,01:17:33,انگلستان  -  ایرلند  -  بلژیک\\r\\n119,پارتی,44.0,56,1379,fifteen,single_video,The Party,01:25:46,\\u200c ایران\\r\\n120,موجود,28.33,82,1982,fifteen,single_video,The Thing,01:47:24,کانادا  - آمریکا\\r\\n121,تجارت,40.0,38,1373,twelve,single_video,The Trade,01:25:59,\\u200c ایران\\r\\n122,کلایدسکوپ,38.0,70,2023,fifteen,series,Kaleidoscope,---------,آمریکا\\r\\n123,پرستار خوب,45.0,69,2022,fifteen,single_video,The Good Nurse,02:00:14,آمریکا\\r\\n124,زندانیان,39.0,81,2013,fifteen,single_video,Prisoners,02:33:07,آمریکا\\r\\n125,سکوت بره ها,41.0,86,1991,adult,single_video,The Silence Of The Lambs,01:57:12,آمریکا\\r\\n126,دختر اژدها,36.0,53,2020,seven,single_video,Dragon Girl,01:22:00,نروژ\\r\\n127,دکل نفت,42.0,61,2023,fifteen,series,The Rig,---------,انگلستان\\r\\n128,غلامرضا تختی,45.85,68,1397,thirteen,single_video,Gholamreza Takhti,01:45:23,\\u200c ایران\\r\\n129,چشم آبی روشن,46.0,67,2022,fifteen,single_video,The Pale Blue Eye,02:05:45,آمریکا\\r\\n130,حوا,42.0,49,2022,thirteen,single_video,Hawa,01:33:53,فرانسه  - سنگال\\r\\n131,ماجراهای راکی و بولوینکل,27.0,43,2000,thirteen,single_video,\\xa0The Adventures of Rocky and Bullwinkle,01:24:50,آلمان  - آمریکا\\r\\n132,پادشاه گمشده,38.0,66,2022,thirteen,single_video,The Lost King,01:46:29,آمریکا\\r\\n133,آکاشینگا: شجاعان,38.0,76,2020,not_set,single_video,Akashinga: The Brave Ones,00:13:06,آمریکا\\r\\n134,آخرین کشتی,46.0,74,2014,fifteen,series,The Last Ship,---------,آمریکا\\r\\n135,افتخار,45.0,81,2022,not_set,series,The Glory,---------,کره جنوبی\\r\\n136,لاتاری,44.0,58,1396,adult,single_video,Lottery,01:47:15,\\u200c ایران\\r\\n137,تلقین,44.0,88,2010,adult,single_video,Inception,02:22:41,آمریکا -  انگلستان\\r\\n138,قصه پریا,40.0,52,1389,twelve,single_video,Fairy Tale,01:42:10,\\u200c ایران\\r\\n139,قفس ذهن,43.0,45,2022,fifteen,single_video,Mindcage,01:31:34,آمریکا\\r\\n140,جایی برای پیرمردها نیست,43.0,82,2007,adult,single_video,No Country for Old Men,01:56:44,آمریکا\\r\\n141,ترقی,50.0,59,2020,eighteen,single_video,Rising High,01:22:32,آلمان\\r\\n142,پسرم,50.0,61,2022,fifteen,series,Oglum,---------,ترکیه\\r\\n143,ریکی کرگدن,44.0,61,2020,seven,single_video,Riki Rhino,01:27:57,اندونزی\\r\\n144,سینما خر (مشمشه),36.0,58,1397,twelve,single_video,Cinema Donkey,01:20:25,\\u200c ایران\\r\\n145,ترولی,50.0,81,2022,fifteen,series,Trolley,---------,کره جنوبی\\r\\n146,صدای سفید,30.0,59,2022,fifteen,single_video,White Noise,02:05:37,آمریکا -  انگلستان\\r\\n147,دووم پاترول,45.0,78,2022,eighteen,series,Doom Patrol,---------,آمریکا\\r\\n148,سونیک پرایم,43.0,73,2022,twelve,series,Sonic Prime,---------,آمریکا -  کانادا\\r\\n149,ماتیلدا,42.0,72,2022,seven,single_video,Roald Dahl\\'s Matilda the Musical,01:48:49,آمریکا -  انگلستان\\r\\n150,گربه وحشی,45.0,80,2022,fifteen,single_video,Wildcat,01:40:40,آمریکا\\r\\n151,خانواده هتفیلد و مک\\u200cکوی,45.0,79,2012,fifteen,series,Hatfields & McCoys,---------,آمریکا\\r\\n152,جنگ داخلی ایرلند,30.0,73,2022,thirteen,series,The Irish Civil War,---------,ایرلند\\r\\n153,نوربورگ,10.0,67,2022,not_set,single_video,Norbourg,01:56:25,کانادا\\r\\n154, محکم بگیر,37.0,61,2022,eighteen,series,Hold Tight,---------,لهستان\\r\\n155,خیانت,40.0,63,2022,eighteen,series,Treason,---------,انگلستان  - آمریکا\\r\\n156,نامحدود,44.31,81,2022,thirteen,series,Limitless ,---------,آمریکا\\r\\n157,آدم برفی,41.0,69,1373,adult,single_video,Snowman,01:43:24,\\u200c ایران\\r\\n158,هم نفس,38.0,0,1382,fifteen,single_video,Soulmate,01:49:47,\\u200c ایران\\r\\n159,مسابقات کریسمسی پخت شیرینی زنجبیلی,46.0,65,2021,toddlers,series,Holiday Baking Championship Gingerbread Showdown,---------,آمریکا\\r\\n160,ارواح اینیشرین,37.0,79,2022,fifteen,single_video,The Banshees of Inisherin,01:52:54,آمریکا -  انگلستان  -  ایرلند\\r\\n161,پرسه در مه,33.0,66,1388,fifteen,single_video,A Walk in the Fog,01:19:28,\\u200c ایران\\r\\n162,حوض نقاشی,47.0,74,1391,adult,single_video,The Painting Pool,01:32:53,\\u200c ایران\\r\\n163,پدرخوانده,41.0,53,2022,fifteen,single_video,Godfather,02:25:22,هند\\r\\n164,گم و پیدا,41.0,80,2008,not_set,single_video,Lost and Found,00:24:02,انگلستان\\r\\n165,جاسوس در میان دوستان,50.0,73,2022,eighteen,series,A Spy Among Friends,---------,آمریکا -  انگلستان\\r\\n166,کافه ستاره,42.0,67,1383,twelve,single_video,Cafe Setareh,01:41:25,\\u200c ایران\\r\\n167,سیاوش,35.0,38,1378,twelve,single_video,Siavash,01:23:11,\\u200c ایران\\r\\n168,دره کانگورو,44.0,73,2022,thirteen,single_video,Kangaroo Valley,01:15:56,آمریکا\\r\\n169,محاکمه در نورنبرگ,25.0,83,1961,eighteen,single_video,Judgment at Nuremberg,02:51:13,آمریکا\\r\\n170,سرد سبز,44.35,0,1378,twelve,single_video,The Green Cold,00:59:27,\\u200c ایران\\r\\n171,بانو مرا دریاب,50.0,0,1380,twelve,single_video,Care For Me Lady,00:22:19,\\u200c ایران\\r\\n172,وقت خوب مصائب,50.0,0,1381,twelve,single_video,A Good Time For Tragedy,00:56:38,\\u200c ایران\\r\\n173,اوج موج,45.0,0,1382,twelve,single_video,Summit Of The Wave,00:31:20,\\u200c ایران\\r\\n174,جام جان,47.0,0,1380,twelve,single_video,The Mirror Of The Soul,00:45:53,\\u200c ایران\\r\\n175,آواز آفتاب,40.0,0,1381,twelve,single_video,The Song Of Sunshine,00:18:23,\\u200c ایران\\r\\n176,چریکه بهرام,45.0,0,1398,adult,single_video,Ballad Of Bahram,01:15:15,\\u200c ایران\\r\\n177,تنها در خانه 2: گمشده در نیویورک,44.0,68,1992,thirteen,single_video,Home Alone 2 Lost in New York,01:59:08,آمریکا\\r\\n178,حس ششم,43.0,82,1999,twelve,single_video,The Sixth Sense,01:41:53,آمریکا\\r\\n179,ماجراهای راکی و بولوینکل,25.0,58,2018,toddlers,series,The Adventures of Rocky and Bullwinkle,---------,آمریکا\\r\\n180,سوپرانو,42.0,92,1991,adult,series,The Sopranos,---------,آمریکا\\r\\n181, پسر، موش کور، روباه و اسب,48.1,80,2022,toddlers,single_video,\"The Boy, the Mole, the Fox and the Horse\",00:34:08,آمریکا\\r\\n182,چهار آدمکش بزرگ,45.0,61,2022,eighteen,single_video,The Big Four,02:12:17,اندونزی\\r\\n183,شرط بندی بزرگ,30.0,85,2022,eighteen,series,Big Bet,---------,آمریکا\\r\\n184,ویچر: منشا خون,31.0,40,2022,adult,series,The Witcher: Blood Origin,---------,لهستان  - آمریکا\\r\\n185,قندون جهیزیه,44.0,60,1393,adult,single_video,Dowry\\'s Sugar Bowl,01:32:44,\\u200c ایران\\r\\n186,استشهادی برای خدا,38.0,55,1386,adult,single_video,A Petition for Allah,01:30:27,\\u200c ایران\\r\\n187,تنها در خانه,43.75,77,1990,thirteen,single_video,Home Alone,01:41:51,آمریکا\\r\\n188,نارکوها,50.0,88,2015,eighteen,series,Narcos,---------,کلمبیا - آمریکا\\r\\n189,بی پولی,45.0,63,1387,not_set,single_video,Penniless,01:49:29,\\u200c ایران\\r\\n190,سربازهای جمعه,35.0,46,1382,not_set,single_video,Friday\\'s Soldiers,01:30:27,\\u200c ایران\\r\\n191,خاطرات یک بی عرضه 2: رودریک فرمانروایی می کند,45.85,52,2022,toddlers,single_video,Diary of a Wimpy Kid 2: Rodrick Rules,01:14:09,کانادا  - آمریکا\\r\\n192,بوتیک,38.0,66,1382,not_set,single_video,Boutique,01:49:15,\\u200c ایران\\r\\n193,شب خشونت آمیز,41.0,69,2022,adult,single_video,Violent Night,01:49:34,آمریکا -  کانادا\\r\\n194,خانواده فیبلمن,38.0,83,2022,twelve,single_video,The Fabelmans,02:14:56,آمریکا\\r\\n195,دختر گمشده,45.0,81,2014,eighteen,single_video,Gone Girl,02:16:25,آمریکا\\r\\n196,گودتاما: یک ماجراجویی عالی,44.0,75,2022,toddlers,series,Gudetama: An Eggcellent Adventure,---------,ژاپن\\r\\n197,توصیه های شکموها به جهانیان,42.0,67,2020,thirteen,series,Eaters Guide To The World ,---------,آمریکا\\r\\n198,کنعان,37.0,64,1386,fifteen,single_video,Canaan,01:45:34,\\u200c ایران\\r\\n199,پل چوبی,43.02,56,1390,twelve,single_video,The Wooden Bridge,01:42:48,\\u200c ایران\\r\\n200,ردپای گرگ,41.0,52,1370,not_set,single_video,The Wolf\\'s Trail,01:32:24,\\u200c ایران\\r\\n201,چارلی 777,48.0,89,2022,not_set,single_video,777 Charlie,02:41:01,هند\\r\\n202,پشت صحنه پینوکیو,25.0,0,2022,fifteen,single_video,House Md Behind the Scenes,00:36:44,Unknown\\r\\n203,دختری با کفش های کتانی,42.0,62,1377,adult,single_video,The Girl in the Sneakers,01:30:58,\\u200c ایران\\r\\n204,ویلایی ها,44.0,60,1395,adult,single_video,Villa Dwellers,01:35:37,\\u200c ایران\\r\\n205,نقطه اوج ریو فردیناند,50.0,70,2022,fifteen,series,Rio Ferdinand\\'s Tipping Point,---------,انگلستان\\r\\n206,خویشاوند,50.0,73,2022,adult,series,Kindred ,---------,آمریکا\\r\\n207,موریس شگفت انگیز,43.46,63,2022,seven,single_video,The Amazing Maurice,01:28:54,انگلستان  -  آلمان  - آمریکا\\r\\n208,مسی,46.0,74,2022,twelve,single_video,Messi,00:58:50,انگلستان\\r\\n209,پلیس,26.0,66,1985,adult,single_video,Police,01:32:10,فرانسه\\r\\n210,قلمرو خشن,34.0,46,2022,eighteen,single_video,Hostile Territory,01:27:22,آمریکا\\r\\n211, فینال جام جهانی 2022 | فرانسه - آرژانتین,47.0,0,2022,toddlers,single_video,FIFA World Cup Final 2022 | France - Argentina,03:13:25,Unknown\\r\\n212,در میان یخ,50.0,72,2022,adult,single_video,Into the Ice,01:24:26,آلمان  -  دانمارک\\r\\n213,اتصال,44.0,66,2022,eighteen,series,Connect,---------,کره جنوبی\\r\\n214,بچه رئیس: جایزه کریسمس,40.0,51,2022,three,single_video,The Boss Baby: Christmas Bonus,00:46:24,آمریکا\\r\\n215,ببر 24,46.0,73,2022,not_set,single_video,Tiger 24,01:29:26,آمریکا\\r\\n216,در دستان او,36.0,66,2022,fifteen,single_video,In Her Hands,01:32:38,آمریکا\\r\\n217,زیستن,25.0,83,1952,adult,single_video,Ikiru,02:14:28,ژاپن\\r\\n218,بره ناقلا : ماجراهای مزرعه,46.0,81,2020,toddlers,series,Shaun The Sheep Adventures From Mossy Bottom ,---------,انگلستان\\r\\n219,چیپ و دیل: زندگی در پارک,41.0,60,2021,three,series,Chip \\'N\\' Dale: Park Life,---------,آمریکا -  فرانسه\\r\\n220,معمای کریسمس,48.0,59,2022,seven,single_video,A Christmas Mystery,01:24:40,آمریکا\\r\\n221,کلاس قهرمان ضعیف,50.0,86,2022,eighteen,series,Weak Hero Class ,---------,کره جنوبی\\r\\n222,کودا,45.0,80,2021,fifteen,single_video,CODA,01:43:31,فرانسه  - آمریکا\\r\\n223,شب در موزه: کمونره دوباره برمی خیزد,44.0,51,2022,twelve,single_video,Night at the Museum: Kahmunrah Rises Again,01:17:33,آمریکا\\r\\n224,بیگانه,25.0,85,1979,fifteen,single_video,Alien,01:53:51,انگلستان  - آمریکا\\r\\n225,1923,43.0,61,2022,eighteen,series,1923,---------,آمریکا\\r\\n226,خداحافظ,43.0,72,2022,fifteen,single_video,Goodbye,02:07:11,هند\\r\\n227,مسابقه قطارهای مایتی اکسپرس,39.0,77,2022,seven,single_video,Mighty Express: Mighty Trains Race,00:23:13,آمریکا\\r\\n228,ماماها,50.0,77,2022,adult,single_video,Midwives,01:27:53,آلمان  - میانمار -  کانادا\\r\\n229,گناهان ما را ببخش,50.0,64,2022,thirteen,single_video,Forgive Us Our Trespasses,00:14:23,آمریکا\\r\\n230,گوزن شمالی در اینجا,44.0,56,2022,toddlers,single_video,Reindeer in Here,00:44:35,آمریکا\\r\\n231,پایان سال رنگارنگ,45.0,68,2021,not_set,single_video,A Year-End Medley,02:04:24,کره جنوبی\\r\\n232,انولا هولمز,44.0,66,2020,adult,single_video,Enola Holmes,01:58:34,انگلستان\\r\\n233,اسکروج: سرود کریسمس,47.0,62,2022,seven,single_video,Scrooge: A Christmas Carol,01:31:18,انگلستان  - آمریکا\\r\\n234,شهردار,50.0,75,2020,adult,single_video,Mayor,01:28:00,انگلستان  - آمریکا\\r\\n235,خطوط ناموزون خدا,48.0,71,2022,fifteen,single_video,God\\'s Crooked Lines,02:23:23,اسپانیا\\r\\n236,اعجوبه,42.0,66,2022,fifteen,single_video,The Wonder,01:43:37,آمریکا -  انگلستان  -  ایرلند\\r\\n237,عصر اژدها: آزادی,36.0,65,2022,thirteen,series,Dragon Age: Absolution,---------,آمریکا -  کره جنوبی\\r\\n238,نیکلاس کوچولو,42.0,73,2022,toddlers,single_video,Little Nicholas,00:01:27,فرانسه  - لوکزامبورگ\\r\\n239,شب,42.0,50,1386,not_set,single_video,The Night,01:36:50,\\u200c ایران\\r\\n240,ارنست و سلستین 2؛ سفری به جیبرتی,25.71,69,2022,toddlers,single_video,Ernest and Celestine: A Trip to Gibberitia,00:01:32,فرانسه  - لوکزامبورگ\\r\\n241,واکر: ایندیپندنس,46.0,69,2022,fifteen,series,Walker: Independence,---------,آمریکا\\r\\n242,میکی کریسمس را نجات می دهد,33.0,62,2022,seven,single_video,Mickey Saves Christmas,00:22:33,آمریکا\\r\\n243,رهاسازی,46.03,51,2022,fifteen,single_video,Emancipation,02:11:44,آمریکا\\r\\n244,تری پاینز,30.0,73,2022,fifteen,series,Three Pines,---------,کانادا  -  انگلستان\\r\\n245,تیل,46.0,72,2022,twelve,single_video,Till,02:06:07,آمریکا\\r\\n246,کارآگاه نایت: رستگاری,40.0,50,2022,fifteen,single_video,Detective Knight: Redemption,01:35:43,آمریکا\\r\\n247,یلواستون: صد و پنجاه ساله,30.0,89,2022,thirteen,series,Yellowstone: One-Fifty,---------,آمریکا\\r\\n248,گوزن\\u200c شاه,44.0,64,2021,fifteen,single_video,The Deer King,01:51:31,ژاپن\\r\\n249,عشق فراموش نشدنی,50.0,80,2021,fifteen,series,Unforgettable Love,---------,چین\\r\\n250,جنگل کوچک,46.0,72,2018,thirteen,single_video,Little Forest,01:42:06,کره جنوبی\\r\\n251,ساحره,39.0,55,1376,adult,single_video,The sorceress,01:28:50,\\u200c ایران\\r\\n252,یاد آوردن,46.0,100,2022,not_set,single_video,Remember,02:07:53,کره جنوبی\\r\\n253,مورد عجیب بنجامین باتن,48.0,78,2008,thirteen,single_video,The Curious Case of Benjamin Button,02:30:58,آمریکا\\r\\n254,پارک وی,39.0,35,1365,eighteen,single_video,Parkwa,01:33:47,\\u200c ایران\\r\\n255,قاشق طلایی,47.0,77,2022,fifteen,series,The Golden Spoon,---------,کره جنوبی\\r\\n256,لیست سیاه,43.0,80,2013,fifteen,series,The Blacklist,---------,آمریکا\\r\\n257,توفیق اجباری,46.0,0,1386,not_set,single_video,Tofigh Ejbari,01:31:55,\\u200c ایران\\r\\n258,او گفت,34.0,73,2022,fifteen,single_video,She Said,02:06:04,آمریکا\\r\\n259,جایشبهای جوردار,46.0,60,2022,fifteen,single_video,Jayeshbhai Jordaar,01:52:35,هند\\r\\n260,عالیجناب,42.0,76,2020,fifteen,series,Your Honor,---------,آمریکا\\r\\n261,پپسی جت من کجاست,50.0,70,2022,eighteen,series,\"Pepsi, Where\\'s My Jet\",---------,آمریکا\\r\\n262,عطرساز,45.0,36,2022,eighteen,single_video,The Perfumier,01:26:46,آلمان\\r\\n263,یک روز بخصوص,41.0,52,1394,adult,single_video,A Special Day,01:33:15,\\u200c ایران\\r\\n264,ایران برگر,45.0,44,1393,thirteen,single_video,Iran Burger,01:58:09,\\u200c ایران\\r\\n265,بغض,30.0,56,1390,fifteen,single_video,Hatred,01:24:39,\\u200c ایران\\r\\n266,قلمرو,10.0,76,2022,thirteen,single_video,The Territory,01:22:14,آمریکا -  دانمارک  -  برزیل\\r\\n267,پشت صحنه دکتر هاوس,25.0,0,2012,fifteen,single_video,House Md Behind the Scenes,00:40:52,Unknown\\r\\n268,تولسیداس کوچیکه,46.0,74,2022,thirteen,single_video,Toolsidas Junior,02:05:43,هند\\r\\n269,آهوی زخمی,15.0,56,2022,fifteen,single_video,A Wounded Fawn,01:24:11,آمریکا\\r\\n270,گیلرمو دل تورو پینوکیو,44.0,80,2022,twelve,single_video,Guillermo del Toro\\'s Pinocchio,01:57:12,مکزیک -  فرانسه  - آمریکا\\r\\n271,رقص بر جاده,50.0,69,2021,fifteen,single_video,The Road Dance,01:43:50,انگلستان\\r\\n272,سفر بزرگ 2: محموله ویژه,39.0,50,2022,seven,single_video,Big Trip 2: Special Delivery,01:30:24,روسیه\\r\\n273,گروه هیجان کریسمس را نجات می دهد,41.0,49,2022,seven,single_video,The Action Pack Saves Christmas,00:24:27,آمریکا\\r\\n274,بزرگ تر,50.0,74,2022,eighteen,single_video,SR,01:27:15,آمریکا\\r\\n275,جنگجویان آینده,48.0,57,2022,twelve,single_video,Warriors of Future,01:38:20,هنگ کنگ\\r\\n276,عصبانی نیستم,36.68,67,1392,eighteen,single_video,I\\'m Not Angry!,01:35:03,\\u200c ایران\\r\\n277,پدرخوانده,45.96,0,1401,twelve,series,The Godfather,---------,\\u200c ایران\\r\\n278,شب بخیر اوپی,45.0,77,2022,fifteen,single_video,Good Night Oppy,01:44:22,آمریکا\\r\\n279,نام من انتقام است,44.0,54,2022,fifteen,single_video,My Name Is Vendetta,01:29:20,ایتالیا\\r\\n280,بائو,45.0,75,2018,seven,single_video,Bao,00:07:39,آمریکا\\r\\n281,این ما هستیم,47.0,87,2016,twelve,series,This Is Us,---------,آمریکا\\r\\n282,شارلاتان,39.0,27,1383,fifteen,single_video,The Charlatan,01:00:00,\\u200c ایران\\r\\n283,عشق به آشپزخانه,35.0,89,2021,thirteen,series,For the Love of Kitchens,---------,انگلستان\\r\\n284,دختر ابدی,23.0,63,2022,thirteen,single_video,The Eternal Daughter,01:34:56,آمریکا -  انگلستان\\r\\n285,بازمانده برگزیده,46.0,75,2016,fifteen,series,Designated Survivor,---------,آمریکا\\r\\n286,بازگشت به فضا,36.0,74,2022,thirteen,single_video,Return to Space,02:04:42,آمریکا\\r\\n287,نجات وحشیانه,39.0,47,2022,fifteen,single_video,Savage Salvation,01:26:15,آمریکا\\r\\n288,از هم گسیخته,50.0,74,2021,fifteen,single_video,Torn,01:30:49,آمریکا\\r\\n289, جان آدامز,33.33,85,2008,fifteen,series,John Adams ,---------,آمریکا\\r\\n290,پشت صحنه سن پطرزبورگ,36.0,0,1388,not_set,single_video,Behind The Scenes San Peterzburg,00:26:34,Unknown\\r\\n291,انسان در طبیعت,46.0,71,2022,thirteen,series,Running Wild with Bear Grylls the Challenge,---------,آمریکا\\r\\n292,صنعتگر,43.0,92,2021,thirteen,series,The Craftsman,---------,آمریکا\\r\\n293,کالامیتی، کودکی مارتا جین کانری,38.0,72,2020,seven,single_video,\"Calamity, a Childhood of Martha Jane Cannary\",01:22:18,دانمارک  -  فرانسه\\r\\n294,لیلی با من است,36.0,76,1374,thirteen,single_video,Leily Is with Me,01:33:41,\\u200c ایران\\r\\n295,بلاسکواران، پی,44.0,74,2022,fifteen,series,\"Belascoarán, PI\",---------,مکزیک\\r\\n296,سن پطرزبورگ,45.0,0,1388,adult,single_video,San Peterzburg,02:00:11,\\u200c ایران\\r\\n297,فصل کشتن,44.0,54,2013,adult,single_video,Killing Season,01:30:14,بلژیک  - آمریکا\\r\\n298,عمل کشتن,50.0,82,2012,fifteen,single_video,The Act of Killing,01:45:38,دانمارک  -  انگلستان  -  نروژ\\r\\n299,کاترین کبیر,30.0,62,2019,eighteen,series,Catherine The Great,---------,انگلستان\\r\\n300,میکس,45.0,56,1378,not_set,single_video,The Mix,01:26:38,\\u200c ایران\\r\\n301,عزیزان,44.0,66,2022,fifteen,single_video,Darlings,02:07:38,هند\\r\\n302,غول,43.0,60,2022,fifteen,single_video,Troll,01:41:15,نروژ\\r\\n303,کلوزآپ,35.0,82,1368,eighteen,single_video,Close Up,01:37:37,\\u200c ایران\\r\\n304,ویلو,46.0,53,2022,thirteen,series,Willow,---------,آمریکا\\r\\n305,برادران سوپر ماریو,39.68,0,2023,seven,single_video,The Super Mario Bros. Movie,00:02:24,ژاپن  - آمریکا\\r\\n306,انفجار,38.0,52,2021,not_set,single_video,Blast,01:34:59,فرانسه\\r\\n307,تنوره دیو,40.0,66,1364,eighteen,single_video,Dust Devil,01:35:37,\\u200c ایران\\r\\n308,اشباح,33.0,0,1392,eighteen,single_video,Apparition,01:32:36,\\u200c ایران\\r\\n309,ستاره ها,47.0,62,2022,thirteen,single_video,Les vedettes,01:34:07,فرانسه\\r\\n310,مرغ کنجکاو,32.0,63,2022,seven,series,Interrupting Chicken,---------,کانادا\\r\\n311,هوگو سانچز گل و شکوه,32.0,52,2022,thirteen,single_video,Hugo Sanchez the Goal and the Glory,01:18:38,مکزیک\\r\\n312,من مادر هستم ,49.0,65,1389,fifteen,single_video,I Am a Mother,01:37:39,\\u200c ایران\\r\\n313,نزدیک,23.0,79,2022,thirteen,single_video,Close,01:35:13,فرانسه  -  هلند  -  بلژیک\\r\\n314,پشت صحنه من مادر هستم,43.0,0,1389,not_set,single_video,Behind The Scenes I Am a Mother 1389,00:08:03,Unknown\\r\\n315,افشای فیفا,40.0,75,2022,thirteen,series,FIFA Uncovered,---------,آمریکا\\r\\n316,مومیایی ها,40.64,Not Mentioned,2023,seven,single_video,Mummies,00:01:13,اسپانیا\\r\\n317,جهان ما,42.0,78,2022,thirteen,series,Our Universe,---------,آمریکا\\r\\n318,هامون,44.0,80,1368,twelve,single_video,Hamoun,01:55:02,\\u200c ایران\\r\\n319,کرید 3,43.67,0,2023,not_set,single_video,Creed III,00:02:21,آمریکا\\r\\n320,گوردون رمزی: کشف نشده,44.0,77,2019,fifteen,series,Gordon Ramsay: Uncharted,---------,آمریکا\\r\\n321,جام جهانی فوتبال شیلی,50.0,0,1962,not_set,single_video,Fussball Weltmeisterschaft Chile 1962,01:26:24,آلمان\\r\\n322,تایتنز را به یاد آور,25.0,78,2000,thirteen,single_video,Remember the Titans,01:49:37,آمریکا\\r\\n323,وال,37.86,0,2022,adult,single_video,The Whale,00:01:04,آمریکا\\r\\n324,سارا,45.0,66,1371,twelve,single_video,Sara,01:38:28,\\u200c ایران\\r\\n325,سیستم,42.0,38,2022,adult,single_video,The System,01:36:26,آمریکا\\r\\n326,شهر بهشت,36.0,37,2022,adult,single_video,Paradise City,01:22:35,آمریکا\\r\\n327,تولد دوباره در خانواده پولدار,50.0,81,2022,fifteen,series,Reborn rich ,---------,کره جنوبی\\r\\n328,پونیین سلوان - بخش 1,35.0,79,2022,fifteen,single_video,Ponniyin Selvan: Part I,02:21:54,هند\\r\\n329,خشم و هیاهو,42.0,64,1394,fifteen,single_video,The Sound and The Fury,01:36:32,\\u200c ایران\\r\\n330,سیزده,40.0,62,1392,not_set,single_video,Thirteen,01:33:11,\\u200c ایران\\r\\n331,اکو 3,48.0,66,2022,thirteen,series,Echo 3,---------,آمریکا\\r\\n332,زمان آرماگدون,36.0,68,2022,fifteen,single_video,Armageddon Time,01:53:33,برزیل - آمریکا\\r\\n333,استب در تاریکی: همه ستاره ها,50.0,68,2019,not_set,single_video,Stab in the Dark: All Stars,00:35:38,آمریکا\\r\\n334,پشت هر ستاره ای ,38.0,69,2022,thirteen,series,Behind Every Star,---------,کره جنوبی\\r\\n335,دیوارهای رویایی: داخل هتل چلسی,50.0,63,2022,not_set,single_video,Dreaming Walls: Inside the Chelsea Hotel,01:07:37,فرانسه  -  بلژیک\\r\\n336,مارالینگا تجاروتجا,25.0,77,2020,thirteen,single_video,Maralinga Tjarutja,00:50:31,استرالیا\\r\\n337,کافه قانون,46.0,75,2022,not_set,series,The Law Cafe,---------,کره جنوبی\\r\\n338,ارباب سایه,36.0,40,2022,eighteen,single_video,Shadow Master,01:29:34,آمریکا\\r\\n339,تبدیل شوندگان: زمین اسپارک,42.0,58,2022,seven,series,Transformers Earthspark,---------,آمریکا\\r\\n340,هواپیما,43.16,0,2023,not_set,single_video,Plane,00:02:26,انگلستان  - آمریکا\\r\\n341,مردی به نام اتو,42.0,0,2022,thirteen,single_video,A Man Called Otto,00:02:26,سوئد  - آمریکا\\r\\n342,دوقلوهای خاموش,36.67,59,2022,eighteen,single_video,The Silent Twins,00:01:53,آمریکا -  لهستان  -  انگلستان\\r\\n343,افسون شده,45.0,58,2022,twelve,single_video,Disenchanted,01:42:33,آمریکا\\r\\n344,عشقی مانند سقوط گلبرگ ها,30.0,64,2022,fifteen,single_video,Love Like the Falling Petals,02:05:51,ژاپن\\r\\n345,ونزدی,48.0,86,2022,fifteen,series,Wednesday,---------,آمریکا\\r\\n346,لایل لایل کروکودیل,45.0,62,2022,seven,single_video,\"Lyle, Lyle, Crocodile\",01:38:38,آمریکا\\r\\n347,من ترانه ۱۵ سال دارم,46.0,71,1380,twelve,single_video,\"I\\'m Taraneh, 15\",01:47:22,\\u200c ایران\\r\\n348,قرمز,44.0,64,1377,twelve,single_video,The Red,01:29:51,\\u200c ایران\\r\\n349,بلک آدام,43.03,69,2022,thirteen,single_video,Black Adam,02:01:53,آمریکا\\r\\n350,شوخی,42.0,55,1378,eighteen,single_video,The Prank,01:30:16,\\u200c ایران\\r\\n351,گلوله گمشده 2,45.0,63,2022,eighteen,single_video,Lost Bullet 2,01:39:54,فرانسه\\r\\n352,نور آهسته,44.0,71,2022,not_set,single_video,Slow Light,00:10:23,پرتغال  -  لهستان\\r\\n353,چهل سالگی,35.0,54,1388,adult,single_video,Chehel Salegi,01:28:07,\\u200c ایران\\r\\n354,صورتی,42.0,46,1381,thirteen,single_video,Pink,01:42:00,\\u200c ایران\\r\\n355,لامبورگینی: مردی پشت افسانه,48.0,52,2022,twelve,single_video,Lamborghini: The Man Behind the Legend,01:28:54,آمریکا -  ایتالیا\\r\\n356,امیلی,47.0,69,2022,fifteen,single_video,Emily,02:02:15,انگلستان  - آمریکا\\r\\n357, انتقام از دیگران,45.05,83,2022,not_set,series,Revenge of Others,---------,کره جنوبی\\r\\n358,بوم اسلایم,10.0,0,2022,toddlers,series,Boom Slime,---------,Unknown\\r\\n359,انولا هلمز 2,47.0,69,2022,twelve,single_video,Enola Holmes 2,01:57:57,آمریکا -  انگلستان\\r\\n360, تام و جری: سرزمین آدم برفی,44.0,53,2022,toddlers,single_video,Tom and Jerry Snowmans Land,01:15:39,آمریکا\\r\\n361,نفوذی,45.0,74,2022,eighteen,series,Insider,---------,کره جنوبی\\r\\n362,می\\u200cتونم کمکتون کنم,41.0,90,2022,thirteen,series,May I Help You,---------,کره جنوبی\\r\\n363,پشت صحنه ساخت اکولایزر 1,50.0,0,2022,not_set,single_video, The Equalizer 1,00:51:09,Unknown\\r\\n364,گاو,43.0,79,1348,fifteen,single_video,The Cow,01:44:37,\\u200c ایران\\r\\n365,نارنجی پوش,43.04,47,1390,thirteen,single_video,Orange Suit,01:42:00,\\u200c ایران\\r\\n366,هیولای پول,39.0,65,2016,fifteen,single_video,Money Monster,01:34:14,آمریکا\\r\\n367,آخرین شکار انسان,38.0,0,2022,eighteen,single_video,The Last Manhunt,01:40:54,آمریکا\\r\\n368,وقتی که مُرده به هوش می آیی,44.0,41,2022,fifteen,single_video,The Minute You Wake up Dead,01:26:04,آمریکا\\r\\n369,ساکر فوتبال,39.0,31,2022,seven,single_video,The Soccer Football,01:09:48,آمریکا\\r\\n370,اوردوز,38.0,55,2022,eighteen,single_video,Overdose,01:52:24,فرانسه\\r\\n371,آندری تارکوفسکی. یک نیایش سینمایی,30.0,76,2019,twelve,single_video,Andrey Tarkovsky A Cinema Prayer,01:40:00,سوئد  -  ایتالیا  -  روسیه\\r\\n372,یلواستون,44.0,86,2018,adult,series,Yellowstone,---------,آمریکا\\r\\n373,لیلا,46.0,75,1375,eighteen,single_video,Leila,02:04:08,\\u200c ایران\\r\\n374,اخلاقتو خوب کن,43.0,0,1389,adult,single_video,Akhalgeto Khoob kon,01:18:36,\\u200c ایران\\r\\n375,آلزایمر,26.0,0,1389,twelve,single_video,Alzheimer,01:37:58,\\u200c ایران\\r\\n376,بلیچ جنگ خونین هزار ساله,36.0,95,2022,eighteen,series,Bleach Thousand Year Blood War ,---------,ژاپن\\r\\n377,به سوی ابدیت,42.0,86,2021,thirteen,series,To Your Eternity,---------,ژاپن\\r\\n378,سرزمین خواب,46.0,66,2022,twelve,single_video,Slumberland,01:58:32,آمریکا\\r\\n379,مرد تک مشتی,45.0,87,2015,thirteen,series,One Punch Man ,---------,ژاپن\\r\\n380,ناصرالدین شاه آکتور سینما,38.0,74,1370,eighteen,single_video,Naser Al-din Shah Actor Cinema,01:28:09,\\u200c ایران\\r\\n381,آرژانتین 1985,45.0,78,2022,fifteen,single_video,Argentina 1985,02:18:33,آمریکا -  انگلستان  -  آرژانتین\\r\\n382,زوتوپیا پلاس,45.0,68,2022,seven,series,Zootopia Plus,---------,آمریکا\\r\\n383,جیجی و نیت,10.0,67,2022,thirteen,single_video,Gigi and Nate,01:36:12,انگلستان  - آمریکا -  سوئیس\\r\\n384,تنهاترین پسر جهان,44.0,58,2022,thirteen,single_video,The Loneliest Boy in the World,01:28:40,انگلستان\\r\\n385,یکی می خواد باهات حرف بزنه,41.0,56,1390,adult,single_video,Someone Wanna Talk To You,01:29:05,\\u200c ایران\\r\\n386,پادشاه تالسا,31.67,84,2022,eighteen,series,Tulsa King,---------,آمریکا\\r\\n387,ناتسامرات,43.33,88,2016,not_set,single_video,Natsamrat,02:38:17,هند\\r\\n388,لبخند,39.67,67,2022,eighteen,single_video,Smile,01:49:52,آمریکا\\r\\n389,تار,33.0,80,2022,fifteen,single_video,Tar,02:31:51,آمریکا\\r\\n390,پروژه شکار گرگ,41.0,63,2022,eighteen,single_video,Project Wolf Hunting,01:53:03,کره جنوبی\\r\\n391,روشن کردن ستاره ها,47.0,74,2022,thirteen,single_video,Lighting up the Stars,01:48:52,چین\\r\\n392,با دیوید بکهام تیم ما را نجات دهید,50.0,66,2022,fifteen,series,Save Our Squad with David Beckham ,---------,انگلستان\\r\\n393,گروه اسرارآمیز بندیکت,40.0,76,2021,seven,series,The Mysterious Benedict Society,---------,آمریکا\\r\\n394,انگلیسی,39.0,81,2022,eighteen,series,The English ,---------,انگلستان  - آمریکا\\r\\n395,محیا,44.0,0,1386,adult,single_video,Mahya,01:37:47,\\u200c ایران\\r\\n396,اژدهای پدرم,40.0,68,2022,seven,single_video,My Father\\'s Dragon,01:43:23,ایرلند  - آمریکا\\r\\n397,انتزاعی: هنر طراحی,44.0,83,2017,fifteen,series,Abstract: The Art of Design,---------,آمریکا\\r\\n398,آر.آی.پی.دی ۲: ظهور جهنمی,34.0,0,2022,thirteen,single_video,R.I.P.D. 2: Rise of the Damned,01:41:34,آمریکا\\r\\n399,خروجی بعدی,30.0,57,2022,thirteen,single_video,Next Exit,01:37:12,آمریکا\\r\\n400,لال سینگ چادا,47.0,55,2022,thirteen,single_video,Laal Singh Chaddha,02:30:12,هند\\r\\n401,امتیاز نهایی,30.0,71,2022,eighteen,series,The Final Score,---------,کلمبیا\\r\\n402,آمستردام,42.0,61,2022,adult,single_video,Amsterdam,02:06:03,آمریکا -  ژاپن\\r\\n403,اس ای اس قهرمانان سرکش,45.0,82,2022,eighteen,series,SAS Rogue Heroes,---------,انگلستان\\r\\n404,جامه\\u200c دران,44.0,60,1393,adult,single_video,A Persian Melody,01:37:53,\\u200c ایران\\r\\n405,توله سگ های شبح,45.0,59,2022,seven,series,Phantom Pups,---------,کانادا\\r\\n406,بیداری رویاها,41.0,55,1388,adult,single_video,A Wakening Of Dream,01:35:00,\\u200c ایران\\r\\n407,کیفر,40.0,0,1388,eighteen,single_video,Retribution,01:49:33,\\u200c ایران\\r\\n408,به رنگ ارغوان,42.0,65,1383,eighteen,single_video,In Amethyst Color,01:34:57,\\u200c ایران\\r\\n409,فردریک داگلاس,25.0,75,2022,not_set,single_video,Becoming Frederick Douglass,00:54:06,آمریکا\\r\\n410,آلاسکا دیلی,50.0,74,2022,thirteen,series,Alaska Daily,---------,آمریکا -  کانادا\\r\\n411,مظنون,50.0,66,2022,fifteen,series,The Suspect,---------,انگلستان\\r\\n412,قتل های مارنو,39.0,73,2021,fifteen,series,Marnow Murders,---------,آلمان\\r\\n413,روی خط,43.0,53,2022,eighteen,single_video,On the Line,01:37:26,آمریکا\\r\\n414,گذرگاه,34.0,66,2022,fifteen,single_video,Causeway,01:15:40,آمریکا\\r\\n415,کاترین ملقب به پرنده,30.0,65,2022,thirteen,single_video,Catherine Called Birdy,01:37:47,آمریکا -  انگلستان\\r\\n416,ساعت شیطانی,47.0,78,2022,eighteen,series,The Devil\\'s Hour,---------,انگلستان\\r\\n417,کارن پیری,43.0,75,2022,fifteen,series,Karen Pirie,---------,انگلستان\\r\\n418,نفرت انگیز و شهر نامرئی,43.0,77,2022,seven,series,Abominable and the Invisible City,---------,آمریکا -  چین\\r\\n419,جک رایان,44.0,80,2018,eighteen,series,Tom lancy\\'s Jack Ryan,---------,آمریکا\\r\\n420,رابین هود,43.0,75,1973,seven,single_video,Robin Hood,01:20:58,آمریکا\\r\\n421,ماهی ها عاشق می شوند,44.0,69,1383,fifteen,single_video,The Fish Fall in Love,01:32:46,\\u200c ایران\\r\\n422,بودن یا نبودن,30.0,70,1377,adult,single_video,To Be or Not to Be,01:32:08,\\u200c ایران\\r\\n423,سرقت از موسولینی,50.0,55,2022,fifteen,single_video,Robbing Mussolini,01:19:13,ایتالیا\\r\\n424,یک اژدهای گیاهخوار 5000 ساله ,36.0,66,2022,thirteen,series,\"Yowai 5000-nen no Soushoku Dragon, Iwarenaki Jaryuu Nintei \",---------,ژاپن\\r\\n425,اینجا چراغی روشن است,34.0,55,1381,adult,single_video,Here a Shining Light,01:21:28,\\u200c ایران\\r\\n426,وقتی هوا خوبه,50.0,78,2020,fifteen,series,When the Weather Is Fine,---------,کره جنوبی\\r\\n427,اونی: ماجرای خدای طوفان,38.0,83,2022,seven,series,Oni: Thunder God\\'s Tale,---------,آمریکا -  ژاپن\\r\\n428, فینال جام جهانی  2018 | فرانسه - کرواسی,42.0,0,2018,toddlers,single_video,FIFA World Cup Final 2018 | France- Croatia ,01:42:24,Unknown\\r\\n429,فینال جام جهانی 2014 | آلمان - آرژانتین,39.0,0,2014,toddlers,single_video,FIFA World Cup Final 2014 | Argentina - Germany 2014,02:15:06,Unknown\\r\\n430,فینال جام جهانی 2010 | هلند - اسپانیا,47.0,0,2010,toddlers,single_video,FIFA World Cup Final 2010 | Netherlands - Spain,02:14:09,Unknown\\r\\n431,فینال جام جهانی 2006 | ایتالیا - فرانسه,40.0,0,2006,toddlers,single_video,FIFA World Cup Final 2006 | Italy- France ,02:15:45,Unknown\\r\\n432,فینال جام جهانی 2002 | برزیل - آلمان,41.0,0,2002,toddlers,single_video,FIFA World Cup Final 2002 | Brazil - Germany,01:38:58,Unknown\\r\\n433,فینال جام جهانی 1998 | فرانسه - برزیل,47.0,0,1998,toddlers,single_video,FIFA World Cup Final 1998 | Brazil - France ,01:40:40,Unknown\\r\\n434,فینال جام جهانی 1994 | برزیل - ایتالیا,47.0,0,1994,toddlers,single_video,FIFA World Cup Final 1994 | Brazil - Italy ,02:15:31,Unknown\\r\\n435,فینال جام جهانی 1990 | آرژانتین - آلمان غربی,39.0,0,1990,toddlers,single_video,FIFA World Cup Final 1990 | Argentina - West Germany,01:37:49,Unknown\\r\\n436,فینال جام جهانی 1986 | آرژانتین - آلمان غربی,45.0,0,1986,toddlers,single_video,FIFA World Cup Final 1986 | Argentina West Germany ,01:36:17,Unknown\\r\\n437,فینال جام جهانی 1982 | ایتالیا - آلمان غربی,38.0,0,1982,toddlers,single_video,FIFA World Cup Final 1982 | Italy - West Germany,01:34:34,Unknown\\r\\n438,فینال جام جهانی 1978 | آرژانتین - هلند,50.0,0,1978,toddlers,single_video,FIFA World Cup Final 1978 | Netherlands - Argentina,02:06:49,Unknown\\r\\n439,فینال جام جهانی 1974 | هلند - آلمان غربی,50.0,0,1974,toddlers,single_video,FIFA World Cup Final 1974 | Netherlands - West Germany,01:34:41,Unknown\\r\\n440,فینال جام جهانی 1970 | برزیل - ایتالیا,47.0,0,1970,toddlers,single_video,FIFA World Cup Final 1970 | Brazil - Italy ,01:35:19,Unknown\\r\\n441,فینال جام جهانی 1966 | انگلستان - آلمان غربی,40.0,0,1966,toddlers,single_video,FIFA World Cup Final 1966 | England-West Germany ,02:04:59,Unknown\\r\\n442,قطار گمشده,30.0,61,2022,fifteen,single_video,Lost Transport,01:28:17,هلند  -  آلمان\\r\\n443,ماجراجویی های اوتیس,34.0,83,2021,seven,series,Get Rolling with Otis,---------,آمریکا\\r\\n444,ببین چطور فرار می کنن,50.0,66,2022,thirteen,single_video,See How They Run,01:31:06,انگلستان  - آمریکا\\r\\n445,تیرانداز چپ دست,50.0,64,1958,thirteen,single_video,The Left Handed Gun,01:36:34,آمریکا\\r\\n446,هوک,36.0,68,1991,twelve,single_video,Hook,02:15:25,آمریکا\\r\\n447,لانه,40.0,46,2022,adult,single_video,The Lair,01:30:02,انگلستان\\r\\n448,شجاعت واقعی,50.0,74,1969,twelve,single_video,True Grit,02:06:02,آمریکا\\r\\n449,سریال خون سرد,45.0,0,1401,fifteen,series,Cold Blooded,---------,\\u200c ایران\\r\\n450,وندل و وایلد,40.0,66,2022,twelve,single_video,Wendell & Wild,01:43:09,آمریکا\\r\\n451,گریه جنگل,46.0,75,2022,not_set,single_video,Jungle Cry,01:47:30,هند  -  انگلستان\\r\\n452,پشت صحنه ساخت اکولایزر 2,25.0,0,2022,not_set,single_video, The Equalizer 2,00:18:42,Unknown\\r\\n453,فرانکی و جانی,40.0,67,1991,adult,single_video,Frankie and Johnny,01:26:25,آمریکا\\r\\n454,قرون وسطایی,43.0,60,2022,eighteen,single_video,Medieval,01:58:34,چک\\r\\n455,سریال پوست شیر,45.88,0,1401,fifteen,series,The Lion Skin,---------,\\u200c ایران\\r\\n456,سریال آفتاب پرست,44.93,0,1401,twelve,series,Chameleons,---------,\\u200c ایران\\r\\n457,ناهول و کتاب جادویی,44.0,65,2020,seven,single_video,Nahuel and the Magic Book,01:36:48,برزیل -  شیلی\\r\\n458,دختری از پلینویل,27.0,63,2022,fifteen,series,The Girl from Plainville,---------,آمریکا\\r\\n459,کاردستی خلاق با سایما,30.0,0,2022,toddlers,series,Saima Craft Work,---------,Unknown\\r\\n460,عصر هوش مصنوعی,30.0,72,2018,not_set,single_video,The Joy of AI,00:59:10,انگلستان\\r\\n461,تحت پوشش,43.0,48,2022,thirteen,single_video,Under Wraps 2,01:14:36,آمریکا\\r\\n462,پشت صحنه ساخت بلک آدام,50.0,0,2022,not_set,single_video,Black Adam,00:09:38,Unknown\\r\\n463,آموزش کاردستی آسان,34.0,0,2022,toddlers,series,PPO Crafts,---------,Unknown\\r\\n464,تپه غمگین کشف شد,50.0,73,2017,not_set,single_video,Sad Hill Unearthed,01:20:27,اسپانیا\\r\\n465,لودیک,36.0,56,2022,fifteen,series,Ludik,---------,آفریقای جنوبی\\r\\n466,آدم درست را راه بده,50.0,72,2022,eighteen,series,Let the Right One In,---------,آمریکا\\r\\n467,قفسه عجایب,38.0,76,2022,adult,series,Guillermo del Toro\\'s Cabinet of Curiosities,---------,مکزیک - آمریکا\\r\\n468,لگو بچه میمون: انتقام ملکه عنکبوتی,38.0,80,2021,seven,single_video,Lego Monkie Kid: Revenge of the Spider Queen,00:43:07,دانمارک  -  استرالیا\\r\\n469,پیرامونی,46.0,84,2022,fifteen,series,The Peripheral,---------,آمریکا\\r\\n470,مرد حادثه آفرین 2,43.0,59,2022,adult,single_video,Accident Man: Hitman\\'s Holiday,01:31:13,انگلستان\\r\\n471,شمشیر 47 رونین,30.0,48,2022,eighteen,single_video,Blade of the 47 Ronin,01:35:14,آمریکا\\r\\n472,کلکسیون,50.0,44,2021,not_set,single_video,Collection,01:18:00,آمریکا\\r\\n473,حقه یا راه حل اسکوبی دو,39.0,57,2022,toddlers,single_video,Trick or Treat Scooby-Doo!,01:14:21,آمریکا\\r\\n474,در جبهه غرب خبری نیست,46.0,80,2022,eighteen,single_video,All Quiet on the Western,02:26:02,آلمان  - آمریکا -  انگلستان\\r\\n475,سگ کشی,41.0,77,1379,not_set,single_video,Killing Mad Dogs,02:17:40,\\u200c ایران\\r\\n476,روزی روزگاری سینما,39.69,0,1392,not_set,single_video,,01:12:37,\\u200c ایران\\r\\n477,اساتید لگو,48.0,74,2020,thirteen,series,Lego Masters,---------,آمریکا\\r\\n478,داستان های جدای,50.0,86,2022,thirteen,series,Star Wars: Tales of the Jedi,---------,آمریکا\\r\\n479,دره مومین,47.0,72,2019,seven,series,Moominvalley,---------,انگلستان  -  فنلاند\\r\\n480,اتاق نامه,39.0,68,2020,fifteen,single_video,The Letter Room,00:31:26,آمریکا\\r\\n'"
      ]
     },
     "execution_count": 18,
     "metadata": {},
     "output_type": "execute_result"
    }
   ],
   "source": [
    "filmnet_data_csv"
   ]
  },
  {
   "cell_type": "code",
   "execution_count": 19,
   "id": "6caab354",
   "metadata": {},
   "outputs": [
    {
     "name": "stdout",
     "output_type": "stream",
     "text": [
      "File Paths:\n",
      "['filmnet_data_csv', 'Filmnet_bs4.ipynb']\n"
     ]
    },
    {
     "ename": "FileNotFoundError",
     "evalue": "[WinError 2] The system cannot find the file specified: './filmnet_data_csv'",
     "output_type": "error",
     "traceback": [
      "\u001b[1;31m---------------------------------------------------------------------------\u001b[0m",
      "\u001b[1;31mFileNotFoundError\u001b[0m                         Traceback (most recent call last)",
      "Cell \u001b[1;32mIn[19], line 15\u001b[0m\n\u001b[0;32m     11\u001b[0m             zf\u001b[38;5;241m.\u001b[39mwrite(\u001b[38;5;124m'\u001b[39m\u001b[38;5;124m./\u001b[39m\u001b[38;5;124m'\u001b[39m \u001b[38;5;241m+\u001b[39m file_name, file_name, compress_type\u001b[38;5;241m=\u001b[39mcompression)\n\u001b[0;32m     14\u001b[0m file_names \u001b[38;5;241m=\u001b[39m [\u001b[38;5;124m\"\u001b[39m\u001b[38;5;124mfilmnet_data_csv\u001b[39m\u001b[38;5;124m\"\u001b[39m, \u001b[38;5;124m\"\u001b[39m\u001b[38;5;124mFilmnet_bs4.ipynb\u001b[39m\u001b[38;5;124m\"\u001b[39m]\n\u001b[1;32m---> 15\u001b[0m \u001b[43mcompress\u001b[49m\u001b[43m(\u001b[49m\u001b[43mfile_names\u001b[49m\u001b[43m)\u001b[49m\n",
      "Cell \u001b[1;32mIn[19], line 11\u001b[0m, in \u001b[0;36mcompress\u001b[1;34m(file_names)\u001b[0m\n\u001b[0;32m      9\u001b[0m \u001b[38;5;28;01mwith\u001b[39;00m zipfile\u001b[38;5;241m.\u001b[39mZipFile(\u001b[38;5;124m\"\u001b[39m\u001b[38;5;124mresult.zip\u001b[39m\u001b[38;5;124m\"\u001b[39m, mode\u001b[38;5;241m=\u001b[39m\u001b[38;5;124m\"\u001b[39m\u001b[38;5;124mw\u001b[39m\u001b[38;5;124m\"\u001b[39m) \u001b[38;5;28;01mas\u001b[39;00m zf:\n\u001b[0;32m     10\u001b[0m     \u001b[38;5;28;01mfor\u001b[39;00m file_name \u001b[38;5;129;01min\u001b[39;00m file_names:\n\u001b[1;32m---> 11\u001b[0m         \u001b[43mzf\u001b[49m\u001b[38;5;241;43m.\u001b[39;49m\u001b[43mwrite\u001b[49m\u001b[43m(\u001b[49m\u001b[38;5;124;43m'\u001b[39;49m\u001b[38;5;124;43m./\u001b[39;49m\u001b[38;5;124;43m'\u001b[39;49m\u001b[43m \u001b[49m\u001b[38;5;241;43m+\u001b[39;49m\u001b[43m \u001b[49m\u001b[43mfile_name\u001b[49m\u001b[43m,\u001b[49m\u001b[43m \u001b[49m\u001b[43mfile_name\u001b[49m\u001b[43m,\u001b[49m\u001b[43m \u001b[49m\u001b[43mcompress_type\u001b[49m\u001b[38;5;241;43m=\u001b[39;49m\u001b[43mcompression\u001b[49m\u001b[43m)\u001b[49m\n",
      "File \u001b[1;32m~\\anaconda3\\lib\\zipfile.py:1741\u001b[0m, in \u001b[0;36mZipFile.write\u001b[1;34m(self, filename, arcname, compress_type, compresslevel)\u001b[0m\n\u001b[0;32m   1736\u001b[0m \u001b[38;5;28;01mif\u001b[39;00m \u001b[38;5;28mself\u001b[39m\u001b[38;5;241m.\u001b[39m_writing:\n\u001b[0;32m   1737\u001b[0m     \u001b[38;5;28;01mraise\u001b[39;00m \u001b[38;5;167;01mValueError\u001b[39;00m(\n\u001b[0;32m   1738\u001b[0m         \u001b[38;5;124m\"\u001b[39m\u001b[38;5;124mCan\u001b[39m\u001b[38;5;124m'\u001b[39m\u001b[38;5;124mt write to ZIP archive while an open writing handle exists\u001b[39m\u001b[38;5;124m\"\u001b[39m\n\u001b[0;32m   1739\u001b[0m     )\n\u001b[1;32m-> 1741\u001b[0m zinfo \u001b[38;5;241m=\u001b[39m \u001b[43mZipInfo\u001b[49m\u001b[38;5;241;43m.\u001b[39;49m\u001b[43mfrom_file\u001b[49m\u001b[43m(\u001b[49m\u001b[43mfilename\u001b[49m\u001b[43m,\u001b[49m\u001b[43m \u001b[49m\u001b[43marcname\u001b[49m\u001b[43m,\u001b[49m\n\u001b[0;32m   1742\u001b[0m \u001b[43m                          \u001b[49m\u001b[43mstrict_timestamps\u001b[49m\u001b[38;5;241;43m=\u001b[39;49m\u001b[38;5;28;43mself\u001b[39;49m\u001b[38;5;241;43m.\u001b[39;49m\u001b[43m_strict_timestamps\u001b[49m\u001b[43m)\u001b[49m\n\u001b[0;32m   1744\u001b[0m \u001b[38;5;28;01mif\u001b[39;00m zinfo\u001b[38;5;241m.\u001b[39mis_dir():\n\u001b[0;32m   1745\u001b[0m     zinfo\u001b[38;5;241m.\u001b[39mcompress_size \u001b[38;5;241m=\u001b[39m \u001b[38;5;241m0\u001b[39m\n",
      "File \u001b[1;32m~\\anaconda3\\lib\\zipfile.py:523\u001b[0m, in \u001b[0;36mZipInfo.from_file\u001b[1;34m(cls, filename, arcname, strict_timestamps)\u001b[0m\n\u001b[0;32m    521\u001b[0m \u001b[38;5;28;01mif\u001b[39;00m \u001b[38;5;28misinstance\u001b[39m(filename, os\u001b[38;5;241m.\u001b[39mPathLike):\n\u001b[0;32m    522\u001b[0m     filename \u001b[38;5;241m=\u001b[39m os\u001b[38;5;241m.\u001b[39mfspath(filename)\n\u001b[1;32m--> 523\u001b[0m st \u001b[38;5;241m=\u001b[39m \u001b[43mos\u001b[49m\u001b[38;5;241;43m.\u001b[39;49m\u001b[43mstat\u001b[49m\u001b[43m(\u001b[49m\u001b[43mfilename\u001b[49m\u001b[43m)\u001b[49m\n\u001b[0;32m    524\u001b[0m isdir \u001b[38;5;241m=\u001b[39m stat\u001b[38;5;241m.\u001b[39mS_ISDIR(st\u001b[38;5;241m.\u001b[39mst_mode)\n\u001b[0;32m    525\u001b[0m mtime \u001b[38;5;241m=\u001b[39m time\u001b[38;5;241m.\u001b[39mlocaltime(st\u001b[38;5;241m.\u001b[39mst_mtime)\n",
      "\u001b[1;31mFileNotFoundError\u001b[0m: [WinError 2] The system cannot find the file specified: './filmnet_data_csv'"
     ]
    }
   ],
   "source": [
    "import zlib\n",
    "import zipfile\n",
    "\n",
    "\n",
    "def compress(file_names):\n",
    "    print(\"File Paths:\")\n",
    "    print(file_names)\n",
    "    compression = zipfile.ZIP_DEFLATED\n",
    "    with zipfile.ZipFile(\"result.zip\", mode=\"w\") as zf:\n",
    "        for file_name in file_names:\n",
    "            zf.write('./' + file_name, file_name, compress_type=compression)\n",
    "\n",
    "\n",
    "file_names = [\"filmnet_data_csv\", \"Filmnet_bs4.ipynb\"]\n",
    "compress(file_names)"
   ]
  },
  {
   "cell_type": "code",
   "execution_count": null,
   "id": "f9878697",
   "metadata": {},
   "outputs": [],
   "source": []
  }
 ],
 "metadata": {
  "kernelspec": {
   "display_name": "Python 3 (ipykernel)",
   "language": "python",
   "name": "python3"
  },
  "language_info": {
   "codemirror_mode": {
    "name": "ipython",
    "version": 3
   },
   "file_extension": ".py",
   "mimetype": "text/x-python",
   "name": "python",
   "nbconvert_exporter": "python",
   "pygments_lexer": "ipython3",
   "version": "3.8.5"
  }
 },
 "nbformat": 4,
 "nbformat_minor": 5
}
