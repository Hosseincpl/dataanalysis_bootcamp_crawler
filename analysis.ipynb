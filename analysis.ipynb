{
 "cells": [
  {
   "cell_type": "code",
   "execution_count": 91,
   "metadata": {},
   "outputs": [],
   "source": [
    "import numpy as np\n",
    "import pandas as pd\n",
    "import matplotlib.pyplot as plt"
   ]
  },
  {
   "cell_type": "code",
   "execution_count": 74,
   "metadata": {},
   "outputs": [],
   "source": [
    "hostels = pd.read_json('/jabama_hostels_info.json')"
   ]
  },
  {
   "cell_type": "code",
   "execution_count": 105,
   "metadata": {},
   "outputs": [
    {
     "name": "stdout",
     "output_type": "stream",
     "text": [
      "Number of hostels: 82\n"
     ]
    }
   ],
   "source": [
    "print('Number of hostels:', len(hostels))"
   ]
  },
  {
   "cell_type": "code",
   "execution_count": 117,
   "metadata": {},
   "outputs": [
    {
     "data": {
      "text/plain": [
       "Index(['title', 'url', 'city', 'county', 'price'], dtype='object')"
      ]
     },
     "execution_count": 117,
     "metadata": {},
     "output_type": "execute_result"
    }
   ],
   "source": [
    "hostels.columns"
   ]
  },
  {
   "cell_type": "code",
   "execution_count": 75,
   "metadata": {},
   "outputs": [
    {
     "data": {
      "text/html": [
       "<div>\n",
       "<style scoped>\n",
       "    .dataframe tbody tr th:only-of-type {\n",
       "        vertical-align: middle;\n",
       "    }\n",
       "\n",
       "    .dataframe tbody tr th {\n",
       "        vertical-align: top;\n",
       "    }\n",
       "\n",
       "    .dataframe thead th {\n",
       "        text-align: right;\n",
       "    }\n",
       "</style>\n",
       "<table border=\"1\" class=\"dataframe\">\n",
       "  <thead>\n",
       "    <tr style=\"text-align: right;\">\n",
       "      <th></th>\n",
       "      <th>title</th>\n",
       "      <th>url</th>\n",
       "      <th>city</th>\n",
       "      <th>county</th>\n",
       "      <th>price</th>\n",
       "    </tr>\n",
       "  </thead>\n",
       "  <tbody>\n",
       "    <tr>\n",
       "      <th>0</th>\n",
       "      <td>هاستل دهکده - واحد دوتخته 3</td>\n",
       "      <td>https://www.jabama.com/stay/hostel-378605</td>\n",
       "      <td>مشهد</td>\n",
       "      <td>خراسان رضوی</td>\n",
       "      <td>300,000</td>\n",
       "    </tr>\n",
       "    <tr>\n",
       "      <th>1</th>\n",
       "      <td>هاستل دهکده - واحد دوتخته</td>\n",
       "      <td>https://www.jabama.com/stay/hostel-378606</td>\n",
       "      <td>مشهد</td>\n",
       "      <td>خراسان رضوی</td>\n",
       "      <td>200,000</td>\n",
       "    </tr>\n",
       "  </tbody>\n",
       "</table>\n",
       "</div>"
      ],
      "text/plain": [
       "                         title                                        url  \\\n",
       "0  هاستل دهکده - واحد دوتخته 3  https://www.jabama.com/stay/hostel-378605   \n",
       "1    هاستل دهکده - واحد دوتخته  https://www.jabama.com/stay/hostel-378606   \n",
       "\n",
       "    city       county    price  \n",
       "0   مشهد  خراسان رضوی  300,000  \n",
       "1   مشهد  خراسان رضوی  200,000  "
      ]
     },
     "execution_count": 75,
     "metadata": {},
     "output_type": "execute_result"
    }
   ],
   "source": [
    "hostels.head(2)"
   ]
  },
  {
   "cell_type": "code",
   "execution_count": 106,
   "metadata": {},
   "outputs": [
    {
     "data": {
      "text/plain": [
       "title     0\n",
       "url       0\n",
       "city      0\n",
       "county    0\n",
       "price     0\n",
       "dtype: int64"
      ]
     },
     "execution_count": 106,
     "metadata": {},
     "output_type": "execute_result"
    }
   ],
   "source": [
    "hostels.isnull().sum()"
   ]
  },
  {
   "cell_type": "code",
   "execution_count": 107,
   "metadata": {},
   "outputs": [
    {
     "data": {
      "text/plain": [
       " اصفهان      33\n",
       " تهران       21\n",
       " شیراز        7\n",
       " ماسوله       6\n",
       " کرمانشاه     4\n",
       " هرمز         4\n",
       " قشم          3\n",
       " مشهد         2\n",
       " یزد          2\n",
       "Name: city, dtype: int64"
      ]
     },
     "execution_count": 107,
     "metadata": {},
     "output_type": "execute_result"
    }
   ],
   "source": [
    "hostels['city'].value_counts()"
   ]
  },
  {
   "cell_type": "code",
   "execution_count": 110,
   "metadata": {},
   "outputs": [
    {
     "data": {
      "text/plain": [
       "numpy.int64"
      ]
     },
     "execution_count": 110,
     "metadata": {},
     "output_type": "execute_result"
    }
   ],
   "source": [
    "type(hostels['price'][0])"
   ]
  },
  {
   "cell_type": "code",
   "execution_count": 76,
   "metadata": {},
   "outputs": [],
   "source": [
    "hostels['price'] = hostels['price'].str.replace(',', '').astype(int)"
   ]
  },
  {
   "cell_type": "code",
   "execution_count": 88,
   "metadata": {},
   "outputs": [
    {
     "data": {
      "text/html": [
       "<div>\n",
       "<style scoped>\n",
       "    .dataframe tbody tr th:only-of-type {\n",
       "        vertical-align: middle;\n",
       "    }\n",
       "\n",
       "    .dataframe tbody tr th {\n",
       "        vertical-align: top;\n",
       "    }\n",
       "\n",
       "    .dataframe thead th {\n",
       "        text-align: right;\n",
       "    }\n",
       "</style>\n",
       "<table border=\"1\" class=\"dataframe\">\n",
       "  <thead>\n",
       "    <tr style=\"text-align: right;\">\n",
       "      <th></th>\n",
       "      <th>price</th>\n",
       "    </tr>\n",
       "  </thead>\n",
       "  <tbody>\n",
       "    <tr>\n",
       "      <th>count</th>\n",
       "      <td>8.200000e+01</td>\n",
       "    </tr>\n",
       "    <tr>\n",
       "      <th>mean</th>\n",
       "      <td>5.948537e+05</td>\n",
       "    </tr>\n",
       "    <tr>\n",
       "      <th>std</th>\n",
       "      <td>3.997927e+05</td>\n",
       "    </tr>\n",
       "    <tr>\n",
       "      <th>min</th>\n",
       "      <td>1.400000e+05</td>\n",
       "    </tr>\n",
       "    <tr>\n",
       "      <th>25%</th>\n",
       "      <td>2.790000e+05</td>\n",
       "    </tr>\n",
       "    <tr>\n",
       "      <th>50%</th>\n",
       "      <td>4.995000e+05</td>\n",
       "    </tr>\n",
       "    <tr>\n",
       "      <th>75%</th>\n",
       "      <td>7.920000e+05</td>\n",
       "    </tr>\n",
       "    <tr>\n",
       "      <th>max</th>\n",
       "      <td>1.700000e+06</td>\n",
       "    </tr>\n",
       "  </tbody>\n",
       "</table>\n",
       "</div>"
      ],
      "text/plain": [
       "              price\n",
       "count  8.200000e+01\n",
       "mean   5.948537e+05\n",
       "std    3.997927e+05\n",
       "min    1.400000e+05\n",
       "25%    2.790000e+05\n",
       "50%    4.995000e+05\n",
       "75%    7.920000e+05\n",
       "max    1.700000e+06"
      ]
     },
     "execution_count": 88,
     "metadata": {},
     "output_type": "execute_result"
    }
   ],
   "source": [
    "hostels.describe()"
   ]
  },
  {
   "cell_type": "code",
   "execution_count": 120,
   "metadata": {},
   "outputs": [
    {
     "data": {
      "text/html": [
       "<div>\n",
       "<style scoped>\n",
       "    .dataframe tbody tr th:only-of-type {\n",
       "        vertical-align: middle;\n",
       "    }\n",
       "\n",
       "    .dataframe tbody tr th {\n",
       "        vertical-align: top;\n",
       "    }\n",
       "\n",
       "    .dataframe thead th {\n",
       "        text-align: right;\n",
       "    }\n",
       "</style>\n",
       "<table border=\"1\" class=\"dataframe\">\n",
       "  <thead>\n",
       "    <tr style=\"text-align: right;\">\n",
       "      <th></th>\n",
       "      <th>price</th>\n",
       "    </tr>\n",
       "    <tr>\n",
       "      <th>city</th>\n",
       "      <th></th>\n",
       "    </tr>\n",
       "  </thead>\n",
       "  <tbody>\n",
       "    <tr>\n",
       "      <th>اصفهان</th>\n",
       "      <td>4.890303e+05</td>\n",
       "    </tr>\n",
       "    <tr>\n",
       "      <th>تهران</th>\n",
       "      <td>7.224762e+05</td>\n",
       "    </tr>\n",
       "    <tr>\n",
       "      <th>شیراز</th>\n",
       "      <td>2.168571e+05</td>\n",
       "    </tr>\n",
       "    <tr>\n",
       "      <th>قشم</th>\n",
       "      <td>1.033333e+06</td>\n",
       "    </tr>\n",
       "    <tr>\n",
       "      <th>ماسوله</th>\n",
       "      <td>1.441667e+06</td>\n",
       "    </tr>\n",
       "    <tr>\n",
       "      <th>مشهد</th>\n",
       "      <td>2.500000e+05</td>\n",
       "    </tr>\n",
       "    <tr>\n",
       "      <th>هرمز</th>\n",
       "      <td>5.350000e+05</td>\n",
       "    </tr>\n",
       "    <tr>\n",
       "      <th>کرمانشاه</th>\n",
       "      <td>2.575000e+05</td>\n",
       "    </tr>\n",
       "    <tr>\n",
       "      <th>یزد</th>\n",
       "      <td>2.650000e+05</td>\n",
       "    </tr>\n",
       "  </tbody>\n",
       "</table>\n",
       "</div>"
      ],
      "text/plain": [
       "                  price\n",
       "city                   \n",
       " اصفهان    4.890303e+05\n",
       " تهران     7.224762e+05\n",
       " شیراز     2.168571e+05\n",
       " قشم       1.033333e+06\n",
       " ماسوله    1.441667e+06\n",
       " مشهد      2.500000e+05\n",
       " هرمز      5.350000e+05\n",
       " کرمانشاه  2.575000e+05\n",
       " یزد       2.650000e+05"
      ]
     },
     "execution_count": 120,
     "metadata": {},
     "output_type": "execute_result"
    }
   ],
   "source": [
    "county_group = hostels.groupby('county')\n",
    "county_group.mean('price')"
   ]
  },
  {
   "cell_type": "code",
   "execution_count": null,
   "metadata": {},
   "outputs": [],
   "source": []
  }
 ],
 "metadata": {
  "kernelspec": {
   "display_name": "base",
   "language": "python",
   "name": "python3"
  },
  "language_info": {
   "codemirror_mode": {
    "name": "ipython",
    "version": 3
   },
   "file_extension": ".py",
   "mimetype": "text/x-python",
   "name": "python",
   "nbconvert_exporter": "python",
   "pygments_lexer": "ipython3",
   "version": "3.9.12"
  },
  "orig_nbformat": 4,
  "vscode": {
   "interpreter": {
    "hash": "d641a651fce921ec6174f8f2fc2cb71985fe291904e50353120eb68acebcf5d2"
   }
  }
 },
 "nbformat": 4,
 "nbformat_minor": 2
}
